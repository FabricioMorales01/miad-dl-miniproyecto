{
 "cells": [
  {
   "cell_type": "markdown",
   "metadata": {},
   "source": [
    "# Mini proyecto kaggle"
   ]
  },
  {
   "cell_type": "code",
   "execution_count": 36,
   "metadata": {},
   "outputs": [],
   "source": [
    "import numpy as np\n",
    "import pandas as pd\n",
    "from sklearn.model_selection import train_test_split\n",
    "from sklearn.preprocessing import StandardScaler\n",
    "import tensorflow as tf\n",
    "from tensorflow.keras.models import Sequential\n",
    "from tensorflow.keras.layers import Dense, Dropout, BatchNormalization\n",
    "from tensorflow.keras.optimizers import Adam"
   ]
  },
  {
   "cell_type": "code",
   "execution_count": 27,
   "metadata": {},
   "outputs": [
    {
     "data": {
      "text/plain": [
       "[]"
      ]
     },
     "execution_count": 27,
     "metadata": {},
     "output_type": "execute_result"
    }
   ],
   "source": [
    "tf.config.list_physical_devices('GPU')\n"
   ]
  },
  {
   "cell_type": "code",
   "execution_count": 38,
   "metadata": {},
   "outputs": [],
   "source": [
    "hist = []"
   ]
  },
  {
   "cell_type": "code",
   "execution_count": 3,
   "metadata": {},
   "outputs": [],
   "source": [
    "train = pd.read_csv('./data/train.csv')\n",
    "evaluetion = pd.read_csv('./data/test.csv')\n",
    "\n"
   ]
  },
  {
   "cell_type": "markdown",
   "metadata": {},
   "source": [
    "## 1. Explorar data"
   ]
  },
  {
   "cell_type": "code",
   "execution_count": 4,
   "metadata": {},
   "outputs": [
    {
     "name": "stdout",
     "output_type": "stream",
     "text": [
      "<class 'pandas.core.frame.DataFrame'>\n",
      "RangeIndex: 77779 entries, 0 to 77778\n",
      "Data columns (total 92 columns):\n",
      " #   Column  Non-Null Count  Dtype  \n",
      "---  ------  --------------  -----  \n",
      " 0   ID      77779 non-null  int64  \n",
      " 1   Y       77779 non-null  int64  \n",
      " 2   V1      77779 non-null  float64\n",
      " 3   V2      77779 non-null  float64\n",
      " 4   V3      77779 non-null  int64  \n",
      " 5   V4      77779 non-null  float64\n",
      " 6   V5      77779 non-null  float64\n",
      " 7   V6      77779 non-null  float64\n",
      " 8   V7      77779 non-null  float64\n",
      " 9   V8      77779 non-null  float64\n",
      " 10  V9      77779 non-null  float64\n",
      " 11  V10     77779 non-null  float64\n",
      " 12  V11     77779 non-null  float64\n",
      " 13  V12     77779 non-null  float64\n",
      " 14  V13     77779 non-null  float64\n",
      " 15  V14     77779 non-null  float64\n",
      " 16  V15     77779 non-null  float64\n",
      " 17  V16     77779 non-null  float64\n",
      " 18  V17     77779 non-null  float64\n",
      " 19  V18     77779 non-null  float64\n",
      " 20  V19     77779 non-null  float64\n",
      " 21  V20     77779 non-null  float64\n",
      " 22  V21     77779 non-null  float64\n",
      " 23  V22     77779 non-null  float64\n",
      " 24  V23     77779 non-null  float64\n",
      " 25  V24     77779 non-null  float64\n",
      " 26  V25     77779 non-null  float64\n",
      " 27  V26     77779 non-null  float64\n",
      " 28  V27     77779 non-null  float64\n",
      " 29  V28     77779 non-null  float64\n",
      " 30  V29     77779 non-null  float64\n",
      " 31  V30     77779 non-null  float64\n",
      " 32  V31     77779 non-null  float64\n",
      " 33  V32     77779 non-null  float64\n",
      " 34  V33     77779 non-null  float64\n",
      " 35  V34     77779 non-null  float64\n",
      " 36  V35     77779 non-null  float64\n",
      " 37  V36     77779 non-null  float64\n",
      " 38  V37     77779 non-null  float64\n",
      " 39  V38     77779 non-null  float64\n",
      " 40  V39     77779 non-null  float64\n",
      " 41  V40     77779 non-null  float64\n",
      " 42  V41     77779 non-null  float64\n",
      " 43  V42     77779 non-null  float64\n",
      " 44  V43     77779 non-null  float64\n",
      " 45  V44     77779 non-null  float64\n",
      " 46  V45     77779 non-null  float64\n",
      " 47  V46     77779 non-null  float64\n",
      " 48  V47     77779 non-null  float64\n",
      " 49  V48     77779 non-null  float64\n",
      " 50  V49     77779 non-null  float64\n",
      " 51  V50     77779 non-null  float64\n",
      " 52  V51     77779 non-null  float64\n",
      " 53  V52     77779 non-null  float64\n",
      " 54  V53     77779 non-null  float64\n",
      " 55  V54     77779 non-null  float64\n",
      " 56  V55     77779 non-null  float64\n",
      " 57  V56     77779 non-null  float64\n",
      " 58  V57     77779 non-null  float64\n",
      " 59  V58     77779 non-null  float64\n",
      " 60  V59     77779 non-null  float64\n",
      " 61  V60     77779 non-null  float64\n",
      " 62  V61     77779 non-null  float64\n",
      " 63  V62     77779 non-null  float64\n",
      " 64  V63     77779 non-null  float64\n",
      " 65  V64     77779 non-null  float64\n",
      " 66  V65     77779 non-null  float64\n",
      " 67  V66     77779 non-null  float64\n",
      " 68  V67     77779 non-null  float64\n",
      " 69  V68     77779 non-null  float64\n",
      " 70  V69     77779 non-null  float64\n",
      " 71  V70     77779 non-null  float64\n",
      " 72  V71     77779 non-null  float64\n",
      " 73  V72     77779 non-null  float64\n",
      " 74  V73     77779 non-null  float64\n",
      " 75  V74     77779 non-null  float64\n",
      " 76  V75     77779 non-null  float64\n",
      " 77  V76     77779 non-null  float64\n",
      " 78  V77     77779 non-null  float64\n",
      " 79  V78     77779 non-null  float64\n",
      " 80  V79     77779 non-null  float64\n",
      " 81  V80     77779 non-null  float64\n",
      " 82  V81     77779 non-null  float64\n",
      " 83  V82     77779 non-null  float64\n",
      " 84  V83     77779 non-null  float64\n",
      " 85  V84     77779 non-null  float64\n",
      " 86  V85     77779 non-null  float64\n",
      " 87  V86     77779 non-null  float64\n",
      " 88  V87     77779 non-null  float64\n",
      " 89  V88     77779 non-null  float64\n",
      " 90  V89     77779 non-null  float64\n",
      " 91  V90     77779 non-null  float64\n",
      "dtypes: float64(89), int64(3)\n",
      "memory usage: 54.6 MB\n"
     ]
    }
   ],
   "source": [
    "train.info()"
   ]
  },
  {
   "cell_type": "markdown",
   "metadata": {},
   "source": [
    "Se cuenta cuantas clases hay por columna"
   ]
  },
  {
   "cell_type": "code",
   "execution_count": 5,
   "metadata": {},
   "outputs": [
    {
     "data": {
      "text/plain": [
       "74"
      ]
     },
     "execution_count": 5,
     "metadata": {},
     "output_type": "execute_result"
    }
   ],
   "source": [
    "len(train['Y'].value_counts())"
   ]
  },
  {
   "cell_type": "code",
   "execution_count": 6,
   "metadata": {},
   "outputs": [
    {
     "name": "stdout",
     "output_type": "stream",
     "text": [
      "ID = 77779\n",
      "Y = 74\n",
      "V1 = 76309\n",
      "V2 = 75683\n",
      "V3 = 1\n",
      "V4 = 77216\n",
      "V5 = 77119\n",
      "V6 = 76607\n",
      "V7 = 77386\n",
      "V8 = 77034\n",
      "V9 = 76852\n",
      "V10 = 76373\n",
      "V11 = 77483\n",
      "V12 = 77584\n",
      "V13 = 77278\n",
      "V14 = 77750\n",
      "V15 = 77752\n",
      "V16 = 77753\n",
      "V17 = 77736\n",
      "V18 = 77738\n",
      "V19 = 77725\n",
      "V20 = 77716\n",
      "V21 = 77701\n",
      "V22 = 77692\n",
      "V23 = 77692\n",
      "V24 = 77665\n",
      "V25 = 77633\n",
      "V26 = 77740\n",
      "V27 = 77738\n",
      "V28 = 77695\n",
      "V29 = 77673\n",
      "V30 = 77687\n",
      "V31 = 77645\n",
      "V32 = 77616\n",
      "V33 = 77595\n",
      "V34 = 77503\n",
      "V35 = 77461\n",
      "V36 = 77643\n",
      "V37 = 77736\n",
      "V38 = 77737\n",
      "V39 = 77715\n",
      "V40 = 77700\n",
      "V41 = 77663\n",
      "V42 = 77656\n",
      "V43 = 77585\n",
      "V44 = 77456\n",
      "V45 = 77504\n",
      "V46 = 77551\n",
      "V47 = 77732\n",
      "V48 = 77712\n",
      "V49 = 77690\n",
      "V50 = 77652\n",
      "V51 = 77649\n",
      "V52 = 77602\n",
      "V53 = 77584\n",
      "V54 = 77633\n",
      "V55 = 77524\n",
      "V56 = 77711\n",
      "V57 = 77715\n",
      "V58 = 77708\n",
      "V59 = 77702\n",
      "V60 = 77675\n",
      "V61 = 77559\n",
      "V62 = 77554\n",
      "V63 = 77431\n",
      "V64 = 77707\n",
      "V65 = 77697\n",
      "V66 = 77666\n",
      "V67 = 77643\n",
      "V68 = 77629\n",
      "V69 = 77638\n",
      "V70 = 77446\n",
      "V71 = 77712\n",
      "V72 = 77712\n",
      "V73 = 77681\n",
      "V74 = 77608\n",
      "V75 = 77595\n",
      "V76 = 77259\n",
      "V77 = 77711\n",
      "V78 = 77692\n",
      "V79 = 77682\n",
      "V80 = 77672\n",
      "V81 = 77364\n",
      "V82 = 77706\n",
      "V83 = 77669\n",
      "V84 = 77619\n",
      "V85 = 77109\n",
      "V86 = 77682\n",
      "V87 = 77685\n",
      "V88 = 76938\n",
      "V89 = 77700\n",
      "V90 = 77171\n"
     ]
    }
   ],
   "source": [
    "for c in train.columns:\n",
    "    print(f'{c} = {len(train[c].value_counts())}')"
   ]
  },
  {
   "cell_type": "markdown",
   "metadata": {},
   "source": [
    "> V3 podrias ser eliminado ????????????"
   ]
  },
  {
   "cell_type": "markdown",
   "metadata": {},
   "source": [
    "## 2. Implementar NN"
   ]
  },
  {
   "cell_type": "markdown",
   "metadata": {},
   "source": [
    "### 2.1 Preparación "
   ]
  },
  {
   "cell_type": "code",
   "execution_count": 37,
   "metadata": {},
   "outputs": [
    {
     "name": "stderr",
     "output_type": "stream",
     "text": [
      "c:\\Users\\facio\\anaconda3\\envs\\tfproject\\lib\\site-packages\\sklearn\\base.py:486: UserWarning: X has feature names, but StandardScaler was fitted without feature names\n",
      "  warnings.warn(\n"
     ]
    }
   ],
   "source": [
    "data = train.drop(columns=['ID', 'V3'])\n",
    "\n",
    "X = data.drop(columns=['Y']).values\n",
    "y = data['Y'].values\n",
    "\n",
    "# División de los datos en conjunto de entrenamiento y prueba\n",
    "X_train, X_test, y_train, y_test = train_test_split(X, y, test_size=0.2, random_state=42)\n",
    "\n",
    "# Normalización de las características\n",
    "scaler = StandardScaler()\n",
    "X_train_scaled = scaler.fit_transform(X_train)\n",
    "X_test_scaled = scaler.transform(X_test)\n",
    "\n",
    "# Escala datos de validavión\n",
    "data_eval= evaluetion.drop(columns=['ID', 'V3'])\n",
    "data_eval = scaler.transform(data_eval)"
   ]
  },
  {
   "cell_type": "markdown",
   "metadata": {},
   "source": [
    "### 2.2 Construcción de modelo"
   ]
  },
  {
   "cell_type": "code",
   "execution_count": 44,
   "metadata": {},
   "outputs": [],
   "source": [
    "model = Sequential([\n",
    "    Dense(128, activation='relu', input_shape=(X_train_scaled.shape[1],)),\n",
    "    BatchNormalization(),\n",
    "    Dropout(0.1),\n",
    "    Dense(64, activation='relu'),\n",
    "    BatchNormalization(),\n",
    "    Dropout(0.1),\n",
    "    Dense(32, activation='relu'),\n",
    "    BatchNormalization(),\n",
    "    Dropout(0.1),\n",
    "    Dense(1, activation='linear') \n",
    "])\n",
    "\n",
    "model.compile(optimizer=Adam(learning_rate=0.001), loss='mse', metrics=['mse'])"
   ]
  },
  {
   "cell_type": "code",
   "execution_count": 45,
   "metadata": {},
   "outputs": [
    {
     "name": "stdout",
     "output_type": "stream",
     "text": [
      "Epoch 1/100\n",
      "195/195 - 2s - loss: 4003717.2500 - val_loss: 3994822.0000 - 2s/epoch - 10ms/step\n",
      "Epoch 2/100\n",
      "195/195 - 1s - loss: 3977265.0000 - val_loss: 3953583.0000 - 611ms/epoch - 3ms/step\n",
      "Epoch 3/100\n",
      "195/195 - 1s - loss: 3926275.0000 - val_loss: 3890304.5000 - 604ms/epoch - 3ms/step\n",
      "Epoch 4/100\n",
      "195/195 - 1s - loss: 3852448.0000 - val_loss: 3809021.7500 - 611ms/epoch - 3ms/step\n",
      "Epoch 5/100\n",
      "195/195 - 1s - loss: 3758159.0000 - val_loss: 3704392.5000 - 610ms/epoch - 3ms/step\n",
      "Epoch 6/100\n",
      "195/195 - 1s - loss: 3645849.0000 - val_loss: 3586836.7500 - 634ms/epoch - 3ms/step\n",
      "Epoch 7/100\n",
      "195/195 - 1s - loss: 3518425.0000 - val_loss: 3450667.5000 - 657ms/epoch - 3ms/step\n",
      "Epoch 8/100\n",
      "195/195 - 1s - loss: 3378001.5000 - val_loss: 3303910.2500 - 630ms/epoch - 3ms/step\n",
      "Epoch 9/100\n",
      "195/195 - 1s - loss: 3226864.7500 - val_loss: 3146937.0000 - 621ms/epoch - 3ms/step\n",
      "Epoch 10/100\n",
      "195/195 - 1s - loss: 3066486.5000 - val_loss: 2985266.2500 - 625ms/epoch - 3ms/step\n",
      "Epoch 11/100\n",
      "195/195 - 1s - loss: 2900274.5000 - val_loss: 2813645.5000 - 618ms/epoch - 3ms/step\n",
      "Epoch 12/100\n",
      "195/195 - 1s - loss: 2728758.2500 - val_loss: 2645505.7500 - 607ms/epoch - 3ms/step\n",
      "Epoch 13/100\n",
      "195/195 - 1s - loss: 2553868.0000 - val_loss: 2464986.5000 - 616ms/epoch - 3ms/step\n",
      "Epoch 14/100\n",
      "195/195 - 1s - loss: 2377066.5000 - val_loss: 2287262.0000 - 624ms/epoch - 3ms/step\n",
      "Epoch 15/100\n",
      "195/195 - 1s - loss: 2199509.5000 - val_loss: 2111819.7500 - 621ms/epoch - 3ms/step\n",
      "Epoch 16/100\n",
      "195/195 - 1s - loss: 2024457.0000 - val_loss: 1936106.1250 - 603ms/epoch - 3ms/step\n",
      "Epoch 17/100\n",
      "195/195 - 1s - loss: 1851331.5000 - val_loss: 1763896.3750 - 614ms/epoch - 3ms/step\n",
      "Epoch 18/100\n",
      "195/195 - 1s - loss: 1682556.0000 - val_loss: 1598441.7500 - 683ms/epoch - 4ms/step\n",
      "Epoch 19/100\n",
      "195/195 - 1s - loss: 1517698.1250 - val_loss: 1433743.8750 - 629ms/epoch - 3ms/step\n",
      "Epoch 20/100\n",
      "195/195 - 1s - loss: 1359813.3750 - val_loss: 1280790.0000 - 616ms/epoch - 3ms/step\n",
      "Epoch 21/100\n",
      "195/195 - 1s - loss: 1209493.6250 - val_loss: 1133995.8750 - 620ms/epoch - 3ms/step\n",
      "Epoch 22/100\n",
      "195/195 - 1s - loss: 1065140.6250 - val_loss: 989136.7500 - 626ms/epoch - 3ms/step\n",
      "Epoch 23/100\n",
      "195/195 - 1s - loss: 929013.5625 - val_loss: 860777.6250 - 629ms/epoch - 3ms/step\n",
      "Epoch 24/100\n",
      "195/195 - 1s - loss: 802266.4375 - val_loss: 739014.0000 - 625ms/epoch - 3ms/step\n",
      "Epoch 25/100\n",
      "195/195 - 1s - loss: 686151.9375 - val_loss: 625744.8125 - 624ms/epoch - 3ms/step\n",
      "Epoch 26/100\n",
      "195/195 - 1s - loss: 578844.5000 - val_loss: 523298.4688 - 617ms/epoch - 3ms/step\n",
      "Epoch 27/100\n",
      "195/195 - 1s - loss: 482240.6250 - val_loss: 431739.0000 - 641ms/epoch - 3ms/step\n",
      "Epoch 28/100\n",
      "195/195 - 1s - loss: 396219.2500 - val_loss: 349165.9062 - 624ms/epoch - 3ms/step\n",
      "Epoch 29/100\n",
      "195/195 - 1s - loss: 320882.8438 - val_loss: 278392.0625 - 635ms/epoch - 3ms/step\n",
      "Epoch 30/100\n",
      "195/195 - 1s - loss: 255081.3438 - val_loss: 216980.1562 - 630ms/epoch - 3ms/step\n",
      "Epoch 31/100\n",
      "195/195 - 1s - loss: 199026.5156 - val_loss: 164965.9219 - 625ms/epoch - 3ms/step\n",
      "Epoch 32/100\n",
      "195/195 - 1s - loss: 152775.5312 - val_loss: 122501.5469 - 651ms/epoch - 3ms/step\n",
      "Epoch 33/100\n",
      "195/195 - 1s - loss: 114354.4062 - val_loss: 88868.2578 - 694ms/epoch - 4ms/step\n",
      "Epoch 34/100\n",
      "195/195 - 1s - loss: 85046.1719 - val_loss: 61843.2891 - 670ms/epoch - 3ms/step\n",
      "Epoch 35/100\n",
      "195/195 - 1s - loss: 62310.7344 - val_loss: 41868.9297 - 672ms/epoch - 3ms/step\n",
      "Epoch 36/100\n",
      "195/195 - 1s - loss: 45590.8047 - val_loss: 27133.8652 - 658ms/epoch - 3ms/step\n",
      "Epoch 37/100\n",
      "195/195 - 1s - loss: 33680.3320 - val_loss: 16841.3945 - 654ms/epoch - 3ms/step\n",
      "Epoch 38/100\n",
      "195/195 - 1s - loss: 25592.5176 - val_loss: 9949.5361 - 642ms/epoch - 3ms/step\n",
      "Epoch 39/100\n",
      "195/195 - 1s - loss: 20440.1699 - val_loss: 5748.6992 - 653ms/epoch - 3ms/step\n",
      "Epoch 40/100\n",
      "195/195 - 1s - loss: 17219.0938 - val_loss: 3234.3152 - 665ms/epoch - 3ms/step\n",
      "Epoch 41/100\n",
      "195/195 - 1s - loss: 15842.6357 - val_loss: 1674.6797 - 652ms/epoch - 3ms/step\n",
      "Epoch 42/100\n",
      "195/195 - 1s - loss: 14705.1709 - val_loss: 941.8154 - 641ms/epoch - 3ms/step\n",
      "Epoch 43/100\n",
      "195/195 - 1s - loss: 14348.9639 - val_loss: 492.3290 - 642ms/epoch - 3ms/step\n",
      "Epoch 44/100\n",
      "195/195 - 1s - loss: 14145.0391 - val_loss: 325.7896 - 673ms/epoch - 3ms/step\n",
      "Epoch 45/100\n",
      "195/195 - 1s - loss: 14004.1084 - val_loss: 233.8883 - 654ms/epoch - 3ms/step\n",
      "Epoch 46/100\n",
      "195/195 - 1s - loss: 13909.9072 - val_loss: 187.0383 - 657ms/epoch - 3ms/step\n",
      "Epoch 47/100\n",
      "195/195 - 1s - loss: 13845.2090 - val_loss: 168.8568 - 662ms/epoch - 3ms/step\n",
      "Epoch 48/100\n",
      "195/195 - 1s - loss: 13904.6318 - val_loss: 154.4489 - 672ms/epoch - 3ms/step\n",
      "Epoch 49/100\n",
      "195/195 - 1s - loss: 13974.4385 - val_loss: 156.4910 - 663ms/epoch - 3ms/step\n",
      "Epoch 50/100\n",
      "195/195 - 1s - loss: 13730.3105 - val_loss: 138.2833 - 659ms/epoch - 3ms/step\n",
      "Epoch 51/100\n",
      "195/195 - 1s - loss: 14045.7393 - val_loss: 155.4685 - 674ms/epoch - 3ms/step\n",
      "Epoch 52/100\n",
      "195/195 - 1s - loss: 14007.4268 - val_loss: 146.6266 - 656ms/epoch - 3ms/step\n",
      "Epoch 53/100\n",
      "195/195 - 1s - loss: 13918.3848 - val_loss: 142.1434 - 652ms/epoch - 3ms/step\n",
      "Epoch 54/100\n",
      "195/195 - 1s - loss: 14010.9189 - val_loss: 137.8362 - 649ms/epoch - 3ms/step\n",
      "Epoch 55/100\n",
      "195/195 - 1s - loss: 13857.5605 - val_loss: 148.0213 - 652ms/epoch - 3ms/step\n",
      "Epoch 56/100\n",
      "195/195 - 1s - loss: 13983.3086 - val_loss: 141.3200 - 652ms/epoch - 3ms/step\n",
      "Epoch 57/100\n",
      "195/195 - 1s - loss: 13916.3359 - val_loss: 128.3756 - 652ms/epoch - 3ms/step\n",
      "Epoch 58/100\n",
      "195/195 - 1s - loss: 13900.9971 - val_loss: 147.8308 - 653ms/epoch - 3ms/step\n",
      "Epoch 59/100\n",
      "195/195 - 1s - loss: 13789.6592 - val_loss: 141.2056 - 653ms/epoch - 3ms/step\n",
      "Epoch 60/100\n",
      "195/195 - 1s - loss: 14095.1357 - val_loss: 140.2968 - 655ms/epoch - 3ms/step\n",
      "Epoch 61/100\n",
      "195/195 - 1s - loss: 14023.1729 - val_loss: 120.3746 - 659ms/epoch - 3ms/step\n",
      "Epoch 62/100\n",
      "195/195 - 1s - loss: 13884.9863 - val_loss: 150.5333 - 659ms/epoch - 3ms/step\n",
      "Epoch 63/100\n",
      "195/195 - 1s - loss: 13879.2236 - val_loss: 139.5450 - 654ms/epoch - 3ms/step\n",
      "Epoch 64/100\n",
      "195/195 - 1s - loss: 13988.4268 - val_loss: 138.4324 - 698ms/epoch - 4ms/step\n",
      "Epoch 65/100\n",
      "195/195 - 1s - loss: 13839.7568 - val_loss: 143.1061 - 771ms/epoch - 4ms/step\n",
      "Epoch 66/100\n",
      "195/195 - 1s - loss: 13744.9639 - val_loss: 152.4788 - 696ms/epoch - 4ms/step\n",
      "Epoch 67/100\n",
      "195/195 - 1s - loss: 13878.5322 - val_loss: 126.5223 - 683ms/epoch - 4ms/step\n",
      "Epoch 68/100\n",
      "195/195 - 1s - loss: 13948.1299 - val_loss: 137.1443 - 665ms/epoch - 3ms/step\n",
      "Epoch 69/100\n",
      "195/195 - 1s - loss: 13829.8398 - val_loss: 131.9195 - 666ms/epoch - 3ms/step\n",
      "Epoch 70/100\n",
      "195/195 - 1s - loss: 14013.9990 - val_loss: 132.5097 - 676ms/epoch - 3ms/step\n",
      "Epoch 71/100\n",
      "195/195 - 1s - loss: 13978.5010 - val_loss: 146.9844 - 662ms/epoch - 3ms/step\n"
     ]
    }
   ],
   "source": [
    "# Entrenamiento del modelo\n",
    "history = model.fit(X_train_scaled, y_train, validation_split=0.2, epochs=100, batch_size=256, verbose=2, callbacks=[tf.keras.callbacks.EarlyStopping(monitor='val_loss', patience=10)])"
   ]
  },
  {
   "cell_type": "code",
   "execution_count": 47,
   "metadata": {},
   "outputs": [
    {
     "name": "stdout",
     "output_type": "stream",
     "text": [
      "487/487 [==============================] - 1s 1ms/step - loss: 145.4816\n"
     ]
    },
    {
     "ename": "TypeError",
     "evalue": "cannot unpack non-iterable float object",
     "output_type": "error",
     "traceback": [
      "\u001b[1;31m---------------------------------------------------------------------------\u001b[0m",
      "\u001b[1;31mTypeError\u001b[0m                                 Traceback (most recent call last)",
      "Cell \u001b[1;32mIn[47], line 2\u001b[0m\n\u001b[0;32m      1\u001b[0m \u001b[38;5;66;03m# Evaluación del modelo en el conjunto de prueba\u001b[39;00m\n\u001b[1;32m----> 2\u001b[0m test_loss, test_mae \u001b[38;5;241m=\u001b[39m model\u001b[38;5;241m.\u001b[39mevaluate(X_test_scaled, y_test)\n\u001b[0;32m      3\u001b[0m \u001b[38;5;28mprint\u001b[39m(\u001b[38;5;124mf\u001b[39m\u001b[38;5;124m\"\u001b[39m\u001b[38;5;124mTest Loss: \u001b[39m\u001b[38;5;132;01m{\u001b[39;00mtest_loss\u001b[38;5;132;01m}\u001b[39;00m\u001b[38;5;124m, Test MAE: \u001b[39m\u001b[38;5;132;01m{\u001b[39;00mtest_mae\u001b[38;5;132;01m}\u001b[39;00m\u001b[38;5;124m\"\u001b[39m)\n",
      "\u001b[1;31mTypeError\u001b[0m: cannot unpack non-iterable float object"
     ]
    }
   ],
   "source": [
    "# Evaluación del modelo en el conjunto de prueba\n",
    "test_loss, test_mse = model.evaluate(X_test_scaled, y_test)\n",
    "print(f\"Test Loss: {test_loss}, Test MAE: {test_mse}\")"
   ]
  },
  {
   "cell_type": "markdown",
   "metadata": {},
   "source": [
    "### 2.3 Visualización"
   ]
  },
  {
   "cell_type": "code",
   "execution_count": null,
   "metadata": {},
   "outputs": [],
   "source": []
  },
  {
   "cell_type": "code",
   "execution_count": 10,
   "metadata": {},
   "outputs": [
    {
     "data": {
      "image/png": "[encoded data removed]",
      "text/plain": [
       "<Figure size 1200x500 with 2 Axes>"
      ]
     },
     "metadata": {},
     "output_type": "display_data"
    }
   ],
   "source": [
    "import matplotlib.pyplot as plt\n",
    "\n",
    "# Gráficos de pérdida y MAE\n",
    "plt.figure(figsize=(12, 5))\n",
    "plt.subplot(1, 2, 1)\n",
    "plt.plot(history.history['loss'], label='Train Loss')\n",
    "plt.plot(history.history['val_loss'], label='Validation Loss')\n",
    "plt.title('Model Loss')\n",
    "plt.ylabel('Loss')\n",
    "plt.xlabel('Epoch')\n",
    "plt.legend()\n",
    "\n",
    "plt.subplot(1, 2, 2)\n",
    "plt.plot(history.history['mae'], label='Train MAE')\n",
    "plt.plot(history.history['val_mae'], label='Validation MAE')\n",
    "plt.title('Model MAE')\n",
    "plt.ylabel('Mean Absolute Error')\n",
    "plt.xlabel('Epoch')\n",
    "plt.legend()\n",
    "\n",
    "plt.show()\n"
   ]
  },
  {
   "cell_type": "markdown",
   "metadata": {},
   "source": [
    "# Predicción"
   ]
  },
  {
   "cell_type": "code",
   "execution_count": null,
   "metadata": {},
   "outputs": [],
   "source": []
  },
  {
   "cell_type": "code",
   "execution_count": 31,
   "metadata": {},
   "outputs": [
    {
     "name": "stdout",
     "output_type": "stream",
     "text": [
      "584/584 [==============================] - 1s 1ms/step\n"
     ]
    },
    {
     "name": "stderr",
     "output_type": "stream",
     "text": [
      "C:\\Users\\facio\\AppData\\Local\\Temp\\ipykernel_5536\\2562451027.py:5: SettingWithCopyWarning: \n",
      "A value is trying to be set on a copy of a slice from a DataFrame.\n",
      "Try using .loc[row_indexer,col_indexer] = value instead\n",
      "\n",
      "See the caveats in the documentation: https://pandas.pydata.org/pandas-docs/stable/user_guide/indexing.html#returning-a-view-versus-a-copy\n",
      "  df['Y'] = y_predict\n"
     ]
    }
   ],
   "source": [
    "def save_data(model, name):\n",
    "    y_predict = model.predict(data_eval)\n",
    "\n",
    "    df = evaluetion[['ID']]\n",
    "    df['Y'] = y_predict\n",
    "    df.to_csv(f'predict/{name}.csv', index=False)\n",
    "\n",
    "save_data(model, 'basic5-180-90-e150-bz256')"
   ]
  },
  {
   "cell_type": "code",
   "execution_count": 18,
   "metadata": {},
   "outputs": [
    {
     "name": "stdout",
     "output_type": "stream",
     "text": [
      "INFO:tensorflow:Assets written to: ram://ed083947-007b-49d3-8c79-d170265f2c60/assets\n"
     ]
    }
   ],
   "source": [
    "import pickle\n",
    "\n",
    "def save_model(model, name):\n",
    "    with open(f'./models/{name}.pkl', 'wb') as archivo_salida:\n",
    "        pickle.dump(model, archivo_salida)\n",
    "\n",
    "save_model(model, 'basic-180-90-e150-bz200')"
   ]
  },
  {
   "cell_type": "code",
   "execution_count": 23,
   "metadata": {},
   "outputs": [],
   "source": []
  },
  {
   "cell_type": "code",
   "execution_count": 32,
   "metadata": {},
   "outputs": [
    {
     "data": {
      "text/html": [
       "<div>\n",
       "<style scoped>\n",
       "    .dataframe tbody tr th:only-of-type {\n",
       "        vertical-align: middle;\n",
       "    }\n",
       "\n",
       "    .dataframe tbody tr th {\n",
       "        vertical-align: top;\n",
       "    }\n",
       "\n",
       "    .dataframe thead th {\n",
       "        text-align: right;\n",
       "    }\n",
       "</style>\n",
       "<table border=\"1\" class=\"dataframe\">\n",
       "  <thead>\n",
       "    <tr style=\"text-align: right;\">\n",
       "      <th></th>\n",
       "      <th>n</th>\n",
       "      <th>desc</th>\n",
       "      <th>mae</th>\n",
       "      <th>epoch</th>\n",
       "      <th>batch_size</th>\n",
       "      <th>mae_kaggle</th>\n",
       "    </tr>\n",
       "  </thead>\n",
       "  <tbody>\n",
       "    <tr>\n",
       "      <th>0</th>\n",
       "      <td>5</td>\n",
       "      <td>180 - 90</td>\n",
       "      <td>9.789821</td>\n",
       "      <td>150</td>\n",
       "      <td>200</td>\n",
       "      <td>NaN</td>\n",
       "    </tr>\n",
       "    <tr>\n",
       "      <th>1</th>\n",
       "      <td>5</td>\n",
       "      <td>180 - 90</td>\n",
       "      <td>6.581418</td>\n",
       "      <td>256</td>\n",
       "      <td>200</td>\n",
       "      <td>9.64963</td>\n",
       "    </tr>\n",
       "  </tbody>\n",
       "</table>\n",
       "</div>"
      ],
      "text/plain": [
       "   n       desc       mae  epoch  batch_size  mae_kaggle\n",
       "0  5  180 - 90   9.789821    150         200         NaN\n",
       "1  5  180 - 90   6.581418    256         200     9.64963"
      ]
     },
     "execution_count": 32,
     "metadata": {},
     "output_type": "execute_result"
    }
   ],
   "source": [
    "hist.append({\n",
    "    'n': '5',\n",
    "    'desc': '180 - 90 ',\n",
    "    'mae': 6.581418037414551,\n",
    "    'epoch': 256,\n",
    "    'batch_size': 200,\n",
    "    'mae_kaggle': 9.64963 \n",
    "})\n",
    "\n",
    "pd.DataFrame(hist)"
   ]
  },
  {
   "cell_type": "code",
   "execution_count": null,
   "metadata": {},
   "outputs": [],
   "source": []
  }
 ],
 "metadata": {
  "kernelspec": {
   "display_name": "dlproject",
   "language": "python",
   "name": "python3"
  },
  "language_info": {
   "codemirror_mode": {
    "name": "ipython",
    "version": 3
   },
   "file_extension": ".py",
   "mimetype": "text/x-python",
   "name": "python",
   "nbconvert_exporter": "python",
   "pygments_lexer": "ipython3",
   "version": "3.10.13"
  }
 },
 "nbformat": 4,
 "nbformat_minor": 2
}
