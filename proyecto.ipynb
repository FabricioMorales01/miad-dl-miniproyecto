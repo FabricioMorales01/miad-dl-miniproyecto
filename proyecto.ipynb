{
 "cells": [
  {
   "cell_type": "markdown",
   "metadata": {},
   "source": [
    "# Mini proyecto kaggle"
   ]
  },
  {
   "cell_type": "code",
   "execution_count": 62,
   "metadata": {},
   "outputs": [],
   "source": [
    "import numpy as np\n",
    "import pandas as pd\n",
    "from sklearn.model_selection import train_test_split\n",
    "from sklearn.preprocessing import StandardScaler\n",
    "import tensorflow as tf\n",
    "from tensorflow.keras.models import Sequential\n",
    "from tensorflow.keras.layers import Dense, Dropout, BatchNormalization, Activation\n",
    "from tensorflow.keras.optimizers import Adam\n",
    "from tensorflow.keras.regularizers import l2"
   ]
  },
  {
   "cell_type": "code",
   "execution_count": 63,
   "metadata": {},
   "outputs": [
    {
     "data": {
      "text/plain": [
       "[]"
      ]
     },
     "execution_count": 63,
     "metadata": {},
     "output_type": "execute_result"
    }
   ],
   "source": [
    "tf.config.list_physical_devices('GPU')\n"
   ]
  },
  {
   "cell_type": "code",
   "execution_count": 3,
   "metadata": {},
   "outputs": [],
   "source": [
    "hist = []"
   ]
  },
  {
   "cell_type": "code",
   "execution_count": 4,
   "metadata": {},
   "outputs": [],
   "source": [
    "train = pd.read_csv('./data/train.csv')\n",
    "evaluetion = pd.read_csv('./data/test.csv')\n",
    "\n"
   ]
  },
  {
   "cell_type": "markdown",
   "metadata": {},
   "source": [
    "## 1. Explorar data"
   ]
  },
  {
   "cell_type": "code",
   "execution_count": 5,
   "metadata": {},
   "outputs": [
    {
     "name": "stdout",
     "output_type": "stream",
     "text": [
      "<class 'pandas.core.frame.DataFrame'>\n",
      "RangeIndex: 77779 entries, 0 to 77778\n",
      "Data columns (total 92 columns):\n",
      " #   Column  Non-Null Count  Dtype  \n",
      "---  ------  --------------  -----  \n",
      " 0   ID      77779 non-null  int64  \n",
      " 1   Y       77779 non-null  int64  \n",
      " 2   V1      77779 non-null  float64\n",
      " 3   V2      77779 non-null  float64\n",
      " 4   V3      77779 non-null  int64  \n",
      " 5   V4      77779 non-null  float64\n",
      " 6   V5      77779 non-null  float64\n",
      " 7   V6      77779 non-null  float64\n",
      " 8   V7      77779 non-null  float64\n",
      " 9   V8      77779 non-null  float64\n",
      " 10  V9      77779 non-null  float64\n",
      " 11  V10     77779 non-null  float64\n",
      " 12  V11     77779 non-null  float64\n",
      " 13  V12     77779 non-null  float64\n",
      " 14  V13     77779 non-null  float64\n",
      " 15  V14     77779 non-null  float64\n",
      " 16  V15     77779 non-null  float64\n",
      " 17  V16     77779 non-null  float64\n",
      " 18  V17     77779 non-null  float64\n",
      " 19  V18     77779 non-null  float64\n",
      " 20  V19     77779 non-null  float64\n",
      " 21  V20     77779 non-null  float64\n",
      " 22  V21     77779 non-null  float64\n",
      " 23  V22     77779 non-null  float64\n",
      " 24  V23     77779 non-null  float64\n",
      " 25  V24     77779 non-null  float64\n",
      " 26  V25     77779 non-null  float64\n",
      " 27  V26     77779 non-null  float64\n",
      " 28  V27     77779 non-null  float64\n",
      " 29  V28     77779 non-null  float64\n",
      " 30  V29     77779 non-null  float64\n",
      " 31  V30     77779 non-null  float64\n",
      " 32  V31     77779 non-null  float64\n",
      " 33  V32     77779 non-null  float64\n",
      " 34  V33     77779 non-null  float64\n",
      " 35  V34     77779 non-null  float64\n",
      " 36  V35     77779 non-null  float64\n",
      " 37  V36     77779 non-null  float64\n",
      " 38  V37     77779 non-null  float64\n",
      " 39  V38     77779 non-null  float64\n",
      " 40  V39     77779 non-null  float64\n",
      " 41  V40     77779 non-null  float64\n",
      " 42  V41     77779 non-null  float64\n",
      " 43  V42     77779 non-null  float64\n",
      " 44  V43     77779 non-null  float64\n",
      " 45  V44     77779 non-null  float64\n",
      " 46  V45     77779 non-null  float64\n",
      " 47  V46     77779 non-null  float64\n",
      " 48  V47     77779 non-null  float64\n",
      " 49  V48     77779 non-null  float64\n",
      " 50  V49     77779 non-null  float64\n",
      " 51  V50     77779 non-null  float64\n",
      " 52  V51     77779 non-null  float64\n",
      " 53  V52     77779 non-null  float64\n",
      " 54  V53     77779 non-null  float64\n",
      " 55  V54     77779 non-null  float64\n",
      " 56  V55     77779 non-null  float64\n",
      " 57  V56     77779 non-null  float64\n",
      " 58  V57     77779 non-null  float64\n",
      " 59  V58     77779 non-null  float64\n",
      " 60  V59     77779 non-null  float64\n",
      " 61  V60     77779 non-null  float64\n",
      " 62  V61     77779 non-null  float64\n",
      " 63  V62     77779 non-null  float64\n",
      " 64  V63     77779 non-null  float64\n",
      " 65  V64     77779 non-null  float64\n",
      " 66  V65     77779 non-null  float64\n",
      " 67  V66     77779 non-null  float64\n",
      " 68  V67     77779 non-null  float64\n",
      " 69  V68     77779 non-null  float64\n",
      " 70  V69     77779 non-null  float64\n",
      " 71  V70     77779 non-null  float64\n",
      " 72  V71     77779 non-null  float64\n",
      " 73  V72     77779 non-null  float64\n",
      " 74  V73     77779 non-null  float64\n",
      " 75  V74     77779 non-null  float64\n",
      " 76  V75     77779 non-null  float64\n",
      " 77  V76     77779 non-null  float64\n",
      " 78  V77     77779 non-null  float64\n",
      " 79  V78     77779 non-null  float64\n",
      " 80  V79     77779 non-null  float64\n",
      " 81  V80     77779 non-null  float64\n",
      " 82  V81     77779 non-null  float64\n",
      " 83  V82     77779 non-null  float64\n",
      " 84  V83     77779 non-null  float64\n",
      " 85  V84     77779 non-null  float64\n",
      " 86  V85     77779 non-null  float64\n",
      " 87  V86     77779 non-null  float64\n",
      " 88  V87     77779 non-null  float64\n",
      " 89  V88     77779 non-null  float64\n",
      " 90  V89     77779 non-null  float64\n",
      " 91  V90     77779 non-null  float64\n",
      "dtypes: float64(89), int64(3)\n",
      "memory usage: 54.6 MB\n"
     ]
    }
   ],
   "source": [
    "train.info()"
   ]
  },
  {
   "cell_type": "markdown",
   "metadata": {},
   "source": [
    "Se cuenta cuantas clases hay por columna"
   ]
  },
  {
   "cell_type": "code",
   "execution_count": 6,
   "metadata": {},
   "outputs": [
    {
     "data": {
      "text/plain": [
       "74"
      ]
     },
     "execution_count": 6,
     "metadata": {},
     "output_type": "execute_result"
    }
   ],
   "source": [
    "len(train['Y'].value_counts())"
   ]
  },
  {
   "cell_type": "code",
   "execution_count": 7,
   "metadata": {},
   "outputs": [
    {
     "name": "stdout",
     "output_type": "stream",
     "text": [
      "ID = 77779\n",
      "Y = 74\n",
      "V1 = 76309\n",
      "V2 = 75683\n",
      "V3 = 1\n",
      "V4 = 77216\n",
      "V5 = 77119\n",
      "V6 = 76607\n",
      "V7 = 77386\n",
      "V8 = 77034\n",
      "V9 = 76852\n",
      "V10 = 76373\n",
      "V11 = 77483\n",
      "V12 = 77584\n",
      "V13 = 77278\n",
      "V14 = 77750\n",
      "V15 = 77752\n",
      "V16 = 77753\n",
      "V17 = 77736\n",
      "V18 = 77738\n",
      "V19 = 77725\n",
      "V20 = 77716\n",
      "V21 = 77701\n",
      "V22 = 77692\n",
      "V23 = 77692\n",
      "V24 = 77665\n",
      "V25 = 77633\n",
      "V26 = 77740\n",
      "V27 = 77738\n",
      "V28 = 77695\n",
      "V29 = 77673\n",
      "V30 = 77687\n",
      "V31 = 77645\n",
      "V32 = 77616\n",
      "V33 = 77595\n",
      "V34 = 77503\n",
      "V35 = 77461\n",
      "V36 = 77643\n",
      "V37 = 77736\n",
      "V38 = 77737\n",
      "V39 = 77715\n",
      "V40 = 77700\n",
      "V41 = 77663\n",
      "V42 = 77656\n",
      "V43 = 77585\n",
      "V44 = 77456\n",
      "V45 = 77504\n",
      "V46 = 77551\n",
      "V47 = 77732\n",
      "V48 = 77712\n",
      "V49 = 77690\n",
      "V50 = 77652\n",
      "V51 = 77649\n",
      "V52 = 77602\n",
      "V53 = 77584\n",
      "V54 = 77633\n",
      "V55 = 77524\n",
      "V56 = 77711\n",
      "V57 = 77715\n",
      "V58 = 77708\n",
      "V59 = 77702\n",
      "V60 = 77675\n",
      "V61 = 77559\n",
      "V62 = 77554\n",
      "V63 = 77431\n",
      "V64 = 77707\n",
      "V65 = 77697\n",
      "V66 = 77666\n",
      "V67 = 77643\n",
      "V68 = 77629\n",
      "V69 = 77638\n",
      "V70 = 77446\n",
      "V71 = 77712\n",
      "V72 = 77712\n",
      "V73 = 77681\n",
      "V74 = 77608\n",
      "V75 = 77595\n",
      "V76 = 77259\n",
      "V77 = 77711\n",
      "V78 = 77692\n",
      "V79 = 77682\n",
      "V80 = 77672\n",
      "V81 = 77364\n",
      "V82 = 77706\n",
      "V83 = 77669\n",
      "V84 = 77619\n",
      "V85 = 77109\n",
      "V86 = 77682\n",
      "V87 = 77685\n",
      "V88 = 76938\n",
      "V89 = 77700\n",
      "V90 = 77171\n"
     ]
    }
   ],
   "source": [
    "for c in train.columns:\n",
    "    print(f'{c} = {len(train[c].value_counts())}')"
   ]
  },
  {
   "cell_type": "markdown",
   "metadata": {},
   "source": [
    "> V3 podrias ser eliminado ????????????"
   ]
  },
  {
   "cell_type": "markdown",
   "metadata": {},
   "source": [
    "## 2. Implementar NN"
   ]
  },
  {
   "cell_type": "markdown",
   "metadata": {},
   "source": [
    "### 2.1 Preparación "
   ]
  },
  {
   "cell_type": "code",
   "execution_count": 75,
   "metadata": {},
   "outputs": [
    {
     "name": "stderr",
     "output_type": "stream",
     "text": [
      "c:\\Users\\facio\\anaconda3\\envs\\tfproject\\lib\\site-packages\\sklearn\\base.py:486: UserWarning: X has feature names, but StandardScaler was fitted without feature names\n",
      "  warnings.warn(\n"
     ]
    }
   ],
   "source": [
    "data = train.drop(columns=['ID'])\n",
    "\n",
    "X = data.drop(columns=['Y']).values\n",
    "y = data['Y'].values\n",
    "\n",
    "# División de los datos en conjunto de entrenamiento y prueba\n",
    "X_train, X_test, y_train, y_test = train_test_split(X, y, test_size=0.2, random_state=42)\n",
    "\n",
    "# Normalización de las características\n",
    "scaler = StandardScaler()\n",
    "X_train_scaled = scaler.fit_transform(X_train)\n",
    "X_test_scaled = scaler.transform(X_test)\n",
    "\n",
    "# Escala datos de validavión\n",
    "data_eval= evaluetion.drop(columns=['ID'])\n",
    "data_eval = scaler.transform(data_eval)"
   ]
  },
  {
   "cell_type": "markdown",
   "metadata": {},
   "source": [
    "### 2.2 Construcción de modelo"
   ]
  },
  {
   "cell_type": "code",
   "execution_count": 77,
   "metadata": {},
   "outputs": [],
   "source": [
    "\n",
    "model = Sequential([\n",
    "    Dense(256, kernel_regularizer=l2(0.01), input_shape=(X_train_scaled.shape[1],)),\n",
    "    Activation('relu'),\n",
    "    BatchNormalization(),\n",
    "    Dropout(0.1),\n",
    "    Dense(128, kernel_regularizer=l2(0.01)),\n",
    "    Activation('relu'),\n",
    "    BatchNormalization(),\n",
    "    Dropout(0.1),\n",
    "    Dense(64, activation='relu'),\n",
    "    BatchNormalization(),\n",
    "    Dropout(0.1),\n",
    "    Dense(32, activation='relu'),\n",
    "    BatchNormalization(),\n",
    "    # Dropout(0.1),\n",
    "    Dense(16, activation='relu'),\n",
    "    BatchNormalization(),\n",
    "    Dense(1, activation='linear') \n",
    "])\n",
    "\n",
    "model.compile(optimizer=Adam(learning_rate=0.001), loss='mse', metrics=['mae'])\n"
   ]
  },
  {
   "cell_type": "code",
   "execution_count": 78,
   "metadata": {},
   "outputs": [
    {
     "name": "stdout",
     "output_type": "stream",
     "text": [
      "Epoch 1/150\n",
      "171/171 - 3s - loss: 4005947.0000 - mae: 2001.4622 - val_loss: 3997572.7500 - val_mae: 1999.3719 - 3s/epoch - 16ms/step\n",
      "Epoch 2/150\n",
      "171/171 - 1s - loss: 3993747.7500 - mae: 1998.4158 - val_loss: 3983749.7500 - val_mae: 1995.9130 - 900ms/epoch - 5ms/step\n",
      "Epoch 3/150\n",
      "171/171 - 1s - loss: 3972373.0000 - mae: 1993.0605 - val_loss: 3959041.2500 - val_mae: 1989.7140 - 868ms/epoch - 5ms/step\n",
      "Epoch 4/150\n",
      "171/171 - 1s - loss: 3942042.7500 - mae: 1985.4377 - val_loss: 3924273.5000 - val_mae: 1980.9579 - 903ms/epoch - 5ms/step\n",
      "Epoch 5/150\n",
      "171/171 - 1s - loss: 3903309.2500 - mae: 1975.6582 - val_loss: 3879940.0000 - val_mae: 1969.7357 - 861ms/epoch - 5ms/step\n",
      "Epoch 6/150\n",
      "171/171 - 1s - loss: 3856794.2500 - mae: 1963.8508 - val_loss: 3831022.0000 - val_mae: 1957.2799 - 850ms/epoch - 5ms/step\n",
      "Epoch 7/150\n",
      "171/171 - 1s - loss: 3803128.0000 - mae: 1950.1389 - val_loss: 3774158.0000 - val_mae: 1942.6985 - 868ms/epoch - 5ms/step\n",
      "Epoch 8/150\n",
      "171/171 - 1s - loss: 3742924.7500 - mae: 1934.6405 - val_loss: 3710707.0000 - val_mae: 1926.2992 - 885ms/epoch - 5ms/step\n",
      "Epoch 9/150\n",
      "171/171 - 1s - loss: 3676765.5000 - mae: 1917.4647 - val_loss: 3639369.7500 - val_mae: 1907.6925 - 865ms/epoch - 5ms/step\n",
      "Epoch 10/150\n",
      "171/171 - 1s - loss: 3605199.2500 - mae: 1898.7109 - val_loss: 3566182.2500 - val_mae: 1888.4127 - 904ms/epoch - 5ms/step\n",
      "Epoch 11/150\n",
      "171/171 - 1s - loss: 3528746.0000 - mae: 1878.4700 - val_loss: 3488178.0000 - val_mae: 1867.6451 - 899ms/epoch - 5ms/step\n",
      "Epoch 12/150\n",
      "171/171 - 1s - loss: 3447893.7500 - mae: 1856.8234 - val_loss: 3406679.5000 - val_mae: 1845.6969 - 850ms/epoch - 5ms/step\n",
      "Epoch 13/150\n",
      "171/171 - 1s - loss: 3363101.5000 - mae: 1833.8470 - val_loss: 3318295.5000 - val_mae: 1821.5966 - 850ms/epoch - 5ms/step\n",
      "Epoch 14/150\n",
      "171/171 - 1s - loss: 3274799.5000 - mae: 1809.6097 - val_loss: 3228136.0000 - val_mae: 1796.6785 - 866ms/epoch - 5ms/step\n",
      "Epoch 15/150\n",
      "171/171 - 1s - loss: 3183395.0000 - mae: 1784.1744 - val_loss: 3135348.0000 - val_mae: 1770.6685 - 1s/epoch - 6ms/step\n",
      "Epoch 16/150\n",
      "171/171 - 1s - loss: 3089269.7500 - mae: 1757.5985 - val_loss: 3040286.7500 - val_mae: 1743.6184 - 905ms/epoch - 5ms/step\n",
      "Epoch 17/150\n",
      "171/171 - 1s - loss: 2992790.5000 - mae: 1729.9326 - val_loss: 2943306.0000 - val_mae: 1715.5826 - 901ms/epoch - 5ms/step\n",
      "Epoch 18/150\n",
      "171/171 - 1s - loss: 2894297.5000 - mae: 1701.2260 - val_loss: 2843355.2500 - val_mae: 1686.2012 - 844ms/epoch - 5ms/step\n",
      "Epoch 19/150\n",
      "171/171 - 1s - loss: 2794123.5000 - mae: 1671.5243 - val_loss: 2744344.5000 - val_mae: 1656.5818 - 958ms/epoch - 6ms/step\n",
      "Epoch 20/150\n",
      "171/171 - 1s - loss: 2692583.2500 - mae: 1640.8689 - val_loss: 2642498.0000 - val_mae: 1625.5513 - 906ms/epoch - 5ms/step\n",
      "Epoch 21/150\n",
      "171/171 - 1s - loss: 2589980.7500 - mae: 1609.2986 - val_loss: 2536429.2500 - val_mae: 1592.5914 - 887ms/epoch - 5ms/step\n",
      "Epoch 22/150\n",
      "171/171 - 1s - loss: 2486607.2500 - mae: 1576.8524 - val_loss: 2434046.0000 - val_mae: 1560.1161 - 878ms/epoch - 5ms/step\n",
      "Epoch 23/150\n",
      "171/171 - 1s - loss: 2382738.7500 - mae: 1543.5643 - val_loss: 2329773.5000 - val_mae: 1526.3325 - 900ms/epoch - 5ms/step\n",
      "Epoch 24/150\n",
      "171/171 - 1s - loss: 2278652.5000 - mae: 1509.4707 - val_loss: 2226045.0000 - val_mae: 1491.9652 - 911ms/epoch - 5ms/step\n",
      "Epoch 25/150\n",
      "171/171 - 1s - loss: 2174609.5000 - mae: 1474.6038 - val_loss: 2121958.0000 - val_mae: 1456.6664 - 892ms/epoch - 5ms/step\n",
      "Epoch 26/150\n",
      "171/171 - 1s - loss: 2070866.3750 - mae: 1438.9967 - val_loss: 2018305.5000 - val_mae: 1420.6414 - 870ms/epoch - 5ms/step\n",
      "Epoch 27/150\n",
      "171/171 - 1s - loss: 1967674.5000 - mae: 1402.6813 - val_loss: 1915075.6250 - val_mae: 1383.8326 - 894ms/epoch - 5ms/step\n",
      "Epoch 28/150\n",
      "171/171 - 1s - loss: 1865276.2500 - mae: 1365.6910 - val_loss: 1815220.2500 - val_mae: 1347.2694 - 897ms/epoch - 5ms/step\n",
      "Epoch 29/150\n",
      "171/171 - 1s - loss: 1763904.6250 - mae: 1328.0582 - val_loss: 1712579.6250 - val_mae: 1308.6235 - 904ms/epoch - 5ms/step\n",
      "Epoch 30/150\n",
      "171/171 - 1s - loss: 1663794.8750 - mae: 1289.8152 - val_loss: 1612991.8750 - val_mae: 1270.0037 - 882ms/epoch - 5ms/step\n",
      "Epoch 31/150\n",
      "171/171 - 1s - loss: 1565170.3750 - mae: 1250.9980 - val_loss: 1516597.1250 - val_mae: 1231.4678 - 940ms/epoch - 5ms/step\n",
      "Epoch 32/150\n",
      "171/171 - 1s - loss: 1468252.0000 - mae: 1211.6409 - val_loss: 1419998.5000 - val_mae: 1191.6013 - 910ms/epoch - 5ms/step\n",
      "Epoch 33/150\n",
      "171/171 - 1s - loss: 1373247.6250 - mae: 1171.7803 - val_loss: 1326698.7500 - val_mae: 1151.7876 - 945ms/epoch - 6ms/step\n",
      "Epoch 34/150\n",
      "171/171 - 1s - loss: 1280367.7500 - mae: 1131.4520 - val_loss: 1234796.1250 - val_mae: 1111.1760 - 886ms/epoch - 5ms/step\n",
      "Epoch 35/150\n",
      "171/171 - 1s - loss: 1189812.2500 - mae: 1090.7000 - val_loss: 1144907.5000 - val_mae: 1069.9639 - 880ms/epoch - 5ms/step\n",
      "Epoch 36/150\n",
      "171/171 - 1s - loss: 1101772.6250 - mae: 1049.5645 - val_loss: 1058097.8750 - val_mae: 1028.5970 - 862ms/epoch - 5ms/step\n",
      "Epoch 37/150\n",
      "171/171 - 1s - loss: 1016435.5000 - mae: 1008.0893 - val_loss: 974980.0625 - val_mae: 987.3663 - 864ms/epoch - 5ms/step\n",
      "Epoch 38/150\n",
      "171/171 - 1s - loss: 933973.1875 - mae: 966.3234 - val_loss: 893582.0000 - val_mae: 945.2488 - 881ms/epoch - 5ms/step\n",
      "Epoch 39/150\n",
      "171/171 - 1s - loss: 854552.6875 - mae: 924.3168 - val_loss: 815790.0000 - val_mae: 903.1649 - 872ms/epoch - 5ms/step\n",
      "Epoch 40/150\n",
      "171/171 - 1s - loss: 778330.4375 - mae: 882.1221 - val_loss: 741419.3125 - val_mae: 861.0089 - 894ms/epoch - 5ms/step\n",
      "Epoch 41/150\n",
      "171/171 - 1s - loss: 705454.6250 - mae: 839.7990 - val_loss: 669817.0625 - val_mae: 818.3722 - 887ms/epoch - 5ms/step\n",
      "Epoch 42/150\n",
      "171/171 - 1s - loss: 636053.2500 - mae: 797.4089 - val_loss: 602025.8125 - val_mae: 775.8477 - 867ms/epoch - 5ms/step\n",
      "Epoch 43/150\n",
      "171/171 - 1s - loss: 570247.4375 - mae: 755.0195 - val_loss: 538039.3125 - val_mae: 733.4542 - 883ms/epoch - 5ms/step\n",
      "Epoch 44/150\n",
      "171/171 - 1s - loss: 508139.1875 - mae: 712.7046 - val_loss: 478055.3438 - val_mae: 691.3549 - 895ms/epoch - 5ms/step\n",
      "Epoch 45/150\n",
      "171/171 - 1s - loss: 449814.2500 - mae: 670.5403 - val_loss: 421735.0938 - val_mae: 649.3458 - 955ms/epoch - 6ms/step\n",
      "Epoch 46/150\n",
      "171/171 - 1s - loss: 395345.6875 - mae: 628.6156 - val_loss: 369102.3125 - val_mae: 607.4661 - 959ms/epoch - 6ms/step\n",
      "Epoch 47/150\n",
      "171/171 - 1s - loss: 344777.8750 - mae: 587.0204 - val_loss: 320515.8750 - val_mae: 566.0659 - 928ms/epoch - 5ms/step\n",
      "Epoch 48/150\n",
      "171/171 - 1s - loss: 298138.1562 - mae: 545.8532 - val_loss: 275821.6250 - val_mae: 525.1075 - 928ms/epoch - 5ms/step\n",
      "Epoch 49/150\n",
      "171/171 - 1s - loss: 255432.7500 - mae: 505.2283 - val_loss: 235157.5312 - val_mae: 484.8390 - 899ms/epoch - 5ms/step\n",
      "Epoch 50/150\n",
      "171/171 - 1s - loss: 216633.2031 - mae: 465.2542 - val_loss: 198252.5938 - val_mae: 445.1593 - 989ms/epoch - 6ms/step\n",
      "Epoch 51/150\n",
      "171/171 - 1s - loss: 181694.7500 - mae: 426.0580 - val_loss: 165308.3281 - val_mae: 406.4755 - 947ms/epoch - 6ms/step\n",
      "Epoch 52/150\n",
      "171/171 - 1s - loss: 150535.9219 - mae: 387.7793 - val_loss: 136292.6875 - val_mae: 369.0630 - 916ms/epoch - 5ms/step\n",
      "Epoch 53/150\n",
      "171/171 - 1s - loss: 123050.0000 - mae: 350.5640 - val_loss: 110355.6406 - val_mae: 332.0698 - 950ms/epoch - 6ms/step\n",
      "Epoch 54/150\n",
      "171/171 - 1s - loss: 99092.4219 - mae: 314.5625 - val_loss: 88150.6406 - val_mae: 296.7568 - 994ms/epoch - 6ms/step\n",
      "Epoch 55/150\n",
      "171/171 - 1s - loss: 78496.0000 - mae: 279.9249 - val_loss: 69132.0703 - val_mae: 262.7685 - 956ms/epoch - 6ms/step\n",
      "Epoch 56/150\n",
      "171/171 - 1s - loss: 61056.1602 - mae: 246.8404 - val_loss: 53306.0977 - val_mae: 230.6974 - 914ms/epoch - 5ms/step\n",
      "Epoch 57/150\n",
      "171/171 - 1s - loss: 46537.5039 - mae: 215.4506 - val_loss: 40185.0078 - val_mae: 200.2469 - 1s/epoch - 6ms/step\n",
      "Epoch 58/150\n",
      "171/171 - 1s - loss: 34684.1250 - mae: 185.9464 - val_loss: 29659.1992 - val_mae: 171.9680 - 907ms/epoch - 5ms/step\n",
      "Epoch 59/150\n",
      "171/171 - 1s - loss: 25215.0469 - mae: 158.4795 - val_loss: 21171.0957 - val_mae: 145.2056 - 961ms/epoch - 6ms/step\n",
      "Epoch 60/150\n",
      "171/171 - 1s - loss: 17832.5527 - mae: 133.2026 - val_loss: 14782.5527 - val_mae: 121.2245 - 906ms/epoch - 5ms/step\n",
      "Epoch 61/150\n",
      "171/171 - 1s - loss: 12232.9482 - mae: 110.2373 - val_loss: 9976.8652 - val_mae: 99.4515 - 911ms/epoch - 5ms/step\n",
      "Epoch 62/150\n",
      "171/171 - 1s - loss: 8114.4692 - mae: 89.6845 - val_loss: 6465.7222 - val_mae: 79.8851 - 914ms/epoch - 5ms/step\n",
      "Epoch 63/150\n",
      "171/171 - 1s - loss: 5189.9453 - mae: 71.5878 - val_loss: 4075.3928 - val_mae: 63.1558 - 899ms/epoch - 5ms/step\n",
      "Epoch 64/150\n",
      "171/171 - 1s - loss: 3190.0972 - mae: 55.9684 - val_loss: 2501.7949 - val_mae: 49.1564 - 910ms/epoch - 5ms/step\n",
      "Epoch 65/150\n",
      "171/171 - 1s - loss: 1880.6239 - mae: 42.7529 - val_loss: 1431.8770 - val_mae: 36.7293 - 925ms/epoch - 5ms/step\n",
      "Epoch 66/150\n",
      "171/171 - 1s - loss: 1063.1266 - mae: 31.8522 - val_loss: 819.3664 - val_mae: 27.2607 - 909ms/epoch - 5ms/step\n",
      "Epoch 67/150\n",
      "171/171 - 1s - loss: 578.2645 - mae: 23.1224 - val_loss: 447.0439 - val_mae: 19.6459 - 966ms/epoch - 6ms/step\n",
      "Epoch 68/150\n",
      "171/171 - 1s - loss: 307.0766 - mae: 16.3809 - val_loss: 262.3639 - val_mae: 14.5226 - 928ms/epoch - 5ms/step\n",
      "Epoch 69/150\n",
      "171/171 - 1s - loss: 163.9581 - mae: 11.4358 - val_loss: 171.6053 - val_mae: 10.9096 - 970ms/epoch - 6ms/step\n",
      "Epoch 70/150\n",
      "171/171 - 1s - loss: 93.2659 - mae: 8.0880 - val_loss: 121.1993 - val_mae: 8.4581 - 920ms/epoch - 5ms/step\n",
      "Epoch 71/150\n",
      "171/171 - 1s - loss: 61.8666 - mae: 6.1448 - val_loss: 97.5789 - val_mae: 7.0482 - 912ms/epoch - 5ms/step\n",
      "Epoch 72/150\n",
      "171/171 - 1s - loss: 47.7239 - mae: 5.1005 - val_loss: 93.5240 - val_mae: 6.5504 - 1s/epoch - 6ms/step\n",
      "Epoch 73/150\n",
      "171/171 - 1s - loss: 42.5460 - mae: 4.6420 - val_loss: 86.2141 - val_mae: 6.1709 - 914ms/epoch - 5ms/step\n",
      "Epoch 74/150\n",
      "171/171 - 1s - loss: 40.3909 - mae: 4.4112 - val_loss: 86.5673 - val_mae: 6.0490 - 905ms/epoch - 5ms/step\n",
      "Epoch 75/150\n",
      "171/171 - 1s - loss: 40.8405 - mae: 4.3962 - val_loss: 89.1143 - val_mae: 6.0642 - 924ms/epoch - 5ms/step\n",
      "Epoch 76/150\n",
      "171/171 - 1s - loss: 39.2685 - mae: 4.2883 - val_loss: 88.9247 - val_mae: 6.0155 - 916ms/epoch - 5ms/step\n",
      "Epoch 77/150\n",
      "171/171 - 1s - loss: 39.3517 - mae: 4.2694 - val_loss: 87.2613 - val_mae: 6.0155 - 932ms/epoch - 5ms/step\n",
      "Epoch 78/150\n",
      "171/171 - 1s - loss: 39.0848 - mae: 4.2608 - val_loss: 86.3974 - val_mae: 5.9331 - 908ms/epoch - 5ms/step\n",
      "Epoch 79/150\n",
      "171/171 - 1s - loss: 39.0681 - mae: 4.2501 - val_loss: 86.6906 - val_mae: 5.9017 - 958ms/epoch - 6ms/step\n",
      "Epoch 80/150\n",
      "171/171 - 1s - loss: 39.4460 - mae: 4.2766 - val_loss: 87.2918 - val_mae: 5.9480 - 953ms/epoch - 6ms/step\n",
      "Epoch 81/150\n",
      "171/171 - 1s - loss: 39.3721 - mae: 4.2662 - val_loss: 86.8813 - val_mae: 5.9117 - 959ms/epoch - 6ms/step\n",
      "Epoch 82/150\n",
      "171/171 - 1s - loss: 38.8990 - mae: 4.2299 - val_loss: 86.9645 - val_mae: 5.9774 - 957ms/epoch - 6ms/step\n",
      "Epoch 83/150\n",
      "171/171 - 1s - loss: 38.9060 - mae: 4.2407 - val_loss: 88.9543 - val_mae: 5.9982 - 956ms/epoch - 6ms/step\n",
      "Epoch 84/150\n",
      "171/171 - 1s - loss: 38.4071 - mae: 4.2167 - val_loss: 86.6925 - val_mae: 5.9001 - 966ms/epoch - 6ms/step\n",
      "Epoch 85/150\n",
      "171/171 - 1s - loss: 38.0711 - mae: 4.1998 - val_loss: 87.5485 - val_mae: 5.9482 - 956ms/epoch - 6ms/step\n",
      "Epoch 86/150\n",
      "171/171 - 1s - loss: 38.2483 - mae: 4.2094 - val_loss: 88.2515 - val_mae: 5.9440 - 991ms/epoch - 6ms/step\n",
      "Epoch 87/150\n",
      "171/171 - 1s - loss: 38.1706 - mae: 4.2048 - val_loss: 86.9755 - val_mae: 5.9370 - 973ms/epoch - 6ms/step\n",
      "Epoch 88/150\n",
      "171/171 - 1s - loss: 38.0028 - mae: 4.1970 - val_loss: 87.6659 - val_mae: 5.9308 - 971ms/epoch - 6ms/step\n",
      "Epoch 89/150\n",
      "171/171 - 1s - loss: 38.8906 - mae: 4.2278 - val_loss: 88.2438 - val_mae: 6.0103 - 941ms/epoch - 6ms/step\n",
      "Epoch 90/150\n",
      "171/171 - 1s - loss: 38.9199 - mae: 4.2159 - val_loss: 88.1135 - val_mae: 6.0188 - 972ms/epoch - 6ms/step\n",
      "Epoch 91/150\n",
      "171/171 - 1s - loss: 38.0319 - mae: 4.1841 - val_loss: 86.3399 - val_mae: 5.8925 - 940ms/epoch - 5ms/step\n",
      "Epoch 92/150\n",
      "171/171 - 1s - loss: 37.3359 - mae: 4.1587 - val_loss: 87.3239 - val_mae: 5.9939 - 940ms/epoch - 5ms/step\n",
      "Epoch 93/150\n",
      "171/171 - 1s - loss: 37.4558 - mae: 4.1462 - val_loss: 86.3975 - val_mae: 5.9166 - 958ms/epoch - 6ms/step\n",
      "Epoch 94/150\n",
      "171/171 - 1s - loss: 37.3177 - mae: 4.1413 - val_loss: 86.8476 - val_mae: 6.0022 - 955ms/epoch - 6ms/step\n",
      "Epoch 95/150\n",
      "171/171 - 1s - loss: 37.7645 - mae: 4.1598 - val_loss: 87.1674 - val_mae: 5.8863 - 964ms/epoch - 6ms/step\n",
      "Epoch 96/150\n",
      "171/171 - 1s - loss: 37.8560 - mae: 4.1614 - val_loss: 89.9031 - val_mae: 6.0021 - 934ms/epoch - 5ms/step\n",
      "Epoch 97/150\n",
      "171/171 - 1s - loss: 37.1420 - mae: 4.1252 - val_loss: 87.9493 - val_mae: 5.9368 - 984ms/epoch - 6ms/step\n",
      "Epoch 98/150\n",
      "171/171 - 1s - loss: 37.7847 - mae: 4.1626 - val_loss: 84.3450 - val_mae: 5.9182 - 953ms/epoch - 6ms/step\n",
      "Epoch 99/150\n",
      "171/171 - 1s - loss: 37.7256 - mae: 4.1562 - val_loss: 87.1457 - val_mae: 5.9251 - 960ms/epoch - 6ms/step\n",
      "Epoch 100/150\n",
      "171/171 - 1s - loss: 37.5816 - mae: 4.1493 - val_loss: 85.9147 - val_mae: 5.9196 - 940ms/epoch - 5ms/step\n",
      "Epoch 101/150\n",
      "171/171 - 1s - loss: 37.2481 - mae: 4.1250 - val_loss: 87.1745 - val_mae: 5.9425 - 962ms/epoch - 6ms/step\n",
      "Epoch 102/150\n",
      "171/171 - 1s - loss: 37.3271 - mae: 4.1432 - val_loss: 88.0561 - val_mae: 5.8887 - 954ms/epoch - 6ms/step\n",
      "Epoch 103/150\n",
      "171/171 - 1s - loss: 36.4623 - mae: 4.0842 - val_loss: 86.7186 - val_mae: 5.9102 - 972ms/epoch - 6ms/step\n",
      "Epoch 104/150\n",
      "171/171 - 1s - loss: 36.5943 - mae: 4.0924 - val_loss: 85.6818 - val_mae: 5.9048 - 972ms/epoch - 6ms/step\n",
      "Epoch 105/150\n",
      "171/171 - 1s - loss: 36.7241 - mae: 4.0948 - val_loss: 88.4016 - val_mae: 5.9395 - 957ms/epoch - 6ms/step\n",
      "Epoch 106/150\n",
      "171/171 - 1s - loss: 36.7282 - mae: 4.1021 - val_loss: 87.6571 - val_mae: 5.9030 - 954ms/epoch - 6ms/step\n",
      "Epoch 107/150\n",
      "171/171 - 1s - loss: 36.7544 - mae: 4.0945 - val_loss: 88.2821 - val_mae: 5.9757 - 942ms/epoch - 6ms/step\n",
      "Epoch 108/150\n",
      "171/171 - 1s - loss: 37.2705 - mae: 4.1169 - val_loss: 87.9290 - val_mae: 5.9615 - 941ms/epoch - 6ms/step\n",
      "Epoch 109/150\n",
      "171/171 - 1s - loss: 36.8918 - mae: 4.1162 - val_loss: 85.9848 - val_mae: 5.9310 - 971ms/epoch - 6ms/step\n",
      "Epoch 110/150\n",
      "171/171 - 1s - loss: 36.8999 - mae: 4.0990 - val_loss: 86.5199 - val_mae: 5.9154 - 957ms/epoch - 6ms/step\n",
      "Epoch 111/150\n",
      "171/171 - 1s - loss: 36.2470 - mae: 4.0733 - val_loss: 85.9165 - val_mae: 5.9049 - 973ms/epoch - 6ms/step\n",
      "Epoch 112/150\n",
      "171/171 - 1s - loss: 36.2539 - mae: 4.0643 - val_loss: 88.5922 - val_mae: 5.9986 - 940ms/epoch - 5ms/step\n",
      "Epoch 113/150\n",
      "171/171 - 1s - loss: 38.6375 - mae: 4.1710 - val_loss: 88.1530 - val_mae: 5.9856 - 957ms/epoch - 6ms/step\n",
      "Epoch 114/150\n",
      "171/171 - 1s - loss: 37.1174 - mae: 4.1150 - val_loss: 87.6279 - val_mae: 5.8970 - 956ms/epoch - 6ms/step\n",
      "Epoch 115/150\n",
      "171/171 - 1s - loss: 36.1180 - mae: 4.0573 - val_loss: 90.6719 - val_mae: 6.0500 - 942ms/epoch - 6ms/step\n",
      "Epoch 116/150\n",
      "171/171 - 1s - loss: 36.3034 - mae: 4.0587 - val_loss: 86.9646 - val_mae: 5.9404 - 987ms/epoch - 6ms/step\n",
      "Epoch 117/150\n",
      "171/171 - 1s - loss: 36.4712 - mae: 4.0673 - val_loss: 89.0869 - val_mae: 5.9844 - 1s/epoch - 6ms/step\n",
      "Epoch 118/150\n",
      "171/171 - 1s - loss: 35.6759 - mae: 4.0345 - val_loss: 87.9965 - val_mae: 5.9331 - 1s/epoch - 6ms/step\n",
      "Epoch 119/150\n",
      "171/171 - 1s - loss: 35.5226 - mae: 4.0204 - val_loss: 87.3524 - val_mae: 5.9440 - 1s/epoch - 6ms/step\n",
      "Epoch 120/150\n",
      "171/171 - 1s - loss: 36.2300 - mae: 4.0520 - val_loss: 87.3384 - val_mae: 5.9572 - 1s/epoch - 6ms/step\n",
      "Epoch 121/150\n",
      "171/171 - 1s - loss: 35.8928 - mae: 4.0244 - val_loss: 86.6520 - val_mae: 6.0519 - 992ms/epoch - 6ms/step\n",
      "Epoch 122/150\n",
      "171/171 - 1s - loss: 35.7110 - mae: 4.0246 - val_loss: 88.3768 - val_mae: 5.9469 - 965ms/epoch - 6ms/step\n",
      "Epoch 123/150\n",
      "171/171 - 1s - loss: 34.9863 - mae: 3.9776 - val_loss: 88.6874 - val_mae: 5.9184 - 987ms/epoch - 6ms/step\n",
      "Epoch 124/150\n",
      "171/171 - 1s - loss: 35.1847 - mae: 3.9905 - val_loss: 86.7749 - val_mae: 5.9254 - 973ms/epoch - 6ms/step\n",
      "Epoch 125/150\n",
      "171/171 - 1s - loss: 35.2056 - mae: 3.9981 - val_loss: 86.7306 - val_mae: 5.8947 - 1s/epoch - 6ms/step\n",
      "Epoch 126/150\n",
      "171/171 - 1s - loss: 34.9830 - mae: 3.9733 - val_loss: 87.6693 - val_mae: 5.9443 - 991ms/epoch - 6ms/step\n",
      "Epoch 127/150\n",
      "171/171 - 1s - loss: 35.7059 - mae: 4.0144 - val_loss: 90.6919 - val_mae: 6.1078 - 1s/epoch - 6ms/step\n",
      "Epoch 128/150\n",
      "171/171 - 1s - loss: 35.6049 - mae: 4.0091 - val_loss: 87.6920 - val_mae: 5.9105 - 984ms/epoch - 6ms/step\n",
      "Epoch 129/150\n",
      "171/171 - 1s - loss: 36.1102 - mae: 4.0396 - val_loss: 87.3472 - val_mae: 5.9858 - 982ms/epoch - 6ms/step\n",
      "Epoch 130/150\n",
      "171/171 - 1s - loss: 35.8996 - mae: 4.0297 - val_loss: 86.9798 - val_mae: 5.9156 - 1s/epoch - 6ms/step\n",
      "Epoch 131/150\n",
      "171/171 - 1s - loss: 36.1189 - mae: 4.0320 - val_loss: 88.3353 - val_mae: 5.9482 - 988ms/epoch - 6ms/step\n",
      "Epoch 132/150\n",
      "171/171 - 1s - loss: 37.0093 - mae: 4.0732 - val_loss: 89.3724 - val_mae: 5.9684 - 988ms/epoch - 6ms/step\n",
      "Epoch 133/150\n",
      "171/171 - 1s - loss: 36.0975 - mae: 4.0337 - val_loss: 87.6983 - val_mae: 5.9539 - 1s/epoch - 6ms/step\n",
      "Epoch 134/150\n",
      "171/171 - 1s - loss: 35.8619 - mae: 4.0174 - val_loss: 89.6756 - val_mae: 6.0009 - 1000ms/epoch - 6ms/step\n",
      "Epoch 135/150\n",
      "171/171 - 1s - loss: 35.2466 - mae: 3.9817 - val_loss: 88.9040 - val_mae: 5.9878 - 1s/epoch - 6ms/step\n",
      "Epoch 136/150\n",
      "171/171 - 1s - loss: 34.9821 - mae: 3.9759 - val_loss: 86.5422 - val_mae: 5.8967 - 998ms/epoch - 6ms/step\n",
      "Epoch 137/150\n",
      "171/171 - 1s - loss: 35.8319 - mae: 4.0125 - val_loss: 89.9594 - val_mae: 5.9735 - 1s/epoch - 6ms/step\n",
      "Epoch 138/150\n",
      "171/171 - 1s - loss: 35.3023 - mae: 3.9821 - val_loss: 87.0262 - val_mae: 5.9275 - 1s/epoch - 6ms/step\n",
      "Epoch 139/150\n",
      "171/171 - 1s - loss: 35.4536 - mae: 3.9886 - val_loss: 87.6562 - val_mae: 5.9112 - 1s/epoch - 6ms/step\n",
      "Epoch 140/150\n",
      "171/171 - 1s - loss: 35.3511 - mae: 3.9839 - val_loss: 88.2175 - val_mae: 5.9395 - 988ms/epoch - 6ms/step\n",
      "Epoch 141/150\n",
      "171/171 - 1s - loss: 34.8451 - mae: 3.9486 - val_loss: 87.7635 - val_mae: 6.0194 - 985ms/epoch - 6ms/step\n",
      "Epoch 142/150\n",
      "171/171 - 1s - loss: 34.8883 - mae: 3.9428 - val_loss: 87.3256 - val_mae: 5.9555 - 991ms/epoch - 6ms/step\n",
      "Epoch 143/150\n",
      "171/171 - 1s - loss: 34.9987 - mae: 3.9635 - val_loss: 88.4257 - val_mae: 5.9658 - 988ms/epoch - 6ms/step\n",
      "Epoch 144/150\n",
      "171/171 - 1s - loss: 35.1150 - mae: 3.9651 - val_loss: 86.7127 - val_mae: 5.8900 - 1s/epoch - 6ms/step\n",
      "Epoch 145/150\n",
      "171/171 - 1s - loss: 34.3822 - mae: 3.9296 - val_loss: 88.9432 - val_mae: 5.9730 - 989ms/epoch - 6ms/step\n",
      "Epoch 146/150\n",
      "171/171 - 1s - loss: 34.8223 - mae: 3.9596 - val_loss: 88.1368 - val_mae: 5.9719 - 991ms/epoch - 6ms/step\n",
      "Epoch 147/150\n",
      "171/171 - 1s - loss: 34.0869 - mae: 3.9218 - val_loss: 88.5705 - val_mae: 5.9491 - 965ms/epoch - 6ms/step\n",
      "Epoch 148/150\n",
      "171/171 - 1s - loss: 34.7458 - mae: 3.9550 - val_loss: 87.0728 - val_mae: 5.9113 - 973ms/epoch - 6ms/step\n"
     ]
    }
   ],
   "source": [
    "# Entrenamiento del modelo\n",
    "history = model.fit(X_train_scaled, y_train, validation_split=0.3, epochs=150, batch_size=256, verbose=2, callbacks=[tf.keras.callbacks.EarlyStopping(monitor='val_loss', patience=50)])"
   ]
  },
  {
   "cell_type": "code",
   "execution_count": 79,
   "metadata": {},
   "outputs": [
    {
     "name": "stdout",
     "output_type": "stream",
     "text": [
      "487/487 [==============================] - 1s 1ms/step - loss: 85.4902 - mae: 5.8500\n",
      "Test Loss: 85.49017333984375, Test MAE: 5.849975109100342\n"
     ]
    }
   ],
   "source": [
    "# Evaluación del modelo en el conjunto de prueba\n",
    "test_loss, test_mae = model.evaluate(X_test_scaled, y_test)\n",
    "print(f\"Test Loss: {test_loss}, Test MAE: {test_mae}\")"
   ]
  },
  {
   "cell_type": "markdown",
   "metadata": {},
   "source": [
    "### 2.3 Visualización"
   ]
  },
  {
   "cell_type": "code",
   "execution_count": null,
   "metadata": {},
   "outputs": [],
   "source": []
  },
  {
   "cell_type": "code",
   "execution_count": 12,
   "metadata": {},
   "outputs": [
    {
     "data": {
      "image/png": "[encoded data removed]",
      "text/plain": [
       "<Figure size 1200x500 with 2 Axes>"
      ]
     },
     "metadata": {},
     "output_type": "display_data"
    }
   ],
   "source": [
    "import matplotlib.pyplot as plt\n",
    "\n",
    "# Gráficos de pérdida y MAE\n",
    "plt.figure(figsize=(12, 5))\n",
    "plt.subplot(1, 2, 1)\n",
    "plt.plot(history.history['loss'], label='Train Loss')\n",
    "plt.plot(history.history['val_loss'], label='Validation Loss')\n",
    "plt.title('Model Loss')\n",
    "plt.ylabel('Loss')\n",
    "plt.xlabel('Epoch')\n",
    "plt.legend()\n",
    "\n",
    "plt.subplot(1, 2, 2)\n",
    "plt.plot(history.history['mae'], label='Train MAE')\n",
    "plt.plot(history.history['val_mae'], label='Validation MAE')\n",
    "plt.title('Model MAE')\n",
    "plt.ylabel('Mean Absolute Error')\n",
    "plt.xlabel('Epoch')\n",
    "plt.legend()\n",
    "\n",
    "plt.show()\n"
   ]
  },
  {
   "cell_type": "markdown",
   "metadata": {},
   "source": [
    "# Predicción"
   ]
  },
  {
   "cell_type": "code",
   "execution_count": 55,
   "metadata": {},
   "outputs": [
    {
     "name": "stdout",
     "output_type": "stream",
     "text": [
      "584/584 [==============================] - 1s 1ms/step\n"
     ]
    },
    {
     "name": "stderr",
     "output_type": "stream",
     "text": [
      "C:\\Users\\facio\\AppData\\Local\\Temp\\ipykernel_21732\\3104163613.py:5: SettingWithCopyWarning: \n",
      "A value is trying to be set on a copy of a slice from a DataFrame.\n",
      "Try using .loc[row_indexer,col_indexer] = value instead\n",
      "\n",
      "See the caveats in the documentation: https://pandas.pydata.org/pandas-docs/stable/user_guide/indexing.html#returning-a-view-versus-a-copy\n",
      "  df['Y'] = y_predict\n"
     ]
    }
   ],
   "source": [
    "def save_data(model, name):\n",
    "    y_predict = model.predict(data_eval)\n",
    "\n",
    "    df = evaluetion[['ID']]\n",
    "    df['Y'] = y_predict\n",
    "    df.to_csv(f'predict/{name}.csv', index=False)\n",
    "\n",
    "save_data(model, '4capas2')"
   ]
  },
  {
   "cell_type": "code",
   "execution_count": 14,
   "metadata": {},
   "outputs": [
    {
     "name": "stdout",
     "output_type": "stream",
     "text": [
      "INFO:tensorflow:Assets written to: ram://3359fc89-1a66-46b5-b6f6-ccfaaa825199/assets\n"
     ]
    }
   ],
   "source": [
    "import pickle\n",
    "\n",
    "def save_model(model, name):\n",
    "    with open(f'./models/{name}.pkl', 'wb') as archivo_salida:\n",
    "        pickle.dump(model, archivo_salida)\n",
    "\n",
    "save_model(model, 'dropout-sample')"
   ]
  },
  {
   "cell_type": "code",
   "execution_count": null,
   "metadata": {},
   "outputs": [],
   "source": []
  },
  {
   "cell_type": "code",
   "execution_count": 28,
   "metadata": {},
   "outputs": [
    {
     "data": {
      "text/html": [
       "<div>\n",
       "<style scoped>\n",
       "    .dataframe tbody tr th:only-of-type {\n",
       "        vertical-align: middle;\n",
       "    }\n",
       "\n",
       "    .dataframe tbody tr th {\n",
       "        vertical-align: top;\n",
       "    }\n",
       "\n",
       "    .dataframe thead th {\n",
       "        text-align: right;\n",
       "    }\n",
       "</style>\n",
       "<table border=\"1\" class=\"dataframe\">\n",
       "  <thead>\n",
       "    <tr style=\"text-align: right;\">\n",
       "      <th></th>\n",
       "      <th>desc</th>\n",
       "      <th>mae</th>\n",
       "      <th>mae_kaggle</th>\n",
       "    </tr>\n",
       "  </thead>\n",
       "  <tbody>\n",
       "    <tr>\n",
       "      <th>0</th>\n",
       "      <td>normalizada con 2 podas aumentando porcentaje ...</td>\n",
       "      <td>5.834270</td>\n",
       "      <td>None</td>\n",
       "    </tr>\n",
       "    <tr>\n",
       "      <th>1</th>\n",
       "      <td>normalizada con 2 podas aumentando porcentaje ...</td>\n",
       "      <td>5.797336</td>\n",
       "      <td>None</td>\n",
       "    </tr>\n",
       "  </tbody>\n",
       "</table>\n",
       "</div>"
      ],
      "text/plain": [
       "                                                desc       mae mae_kaggle\n",
       "0  normalizada con 2 podas aumentando porcentaje ...  5.834270       None\n",
       "1  normalizada con 2 podas aumentando porcentaje ...  5.797336       None"
      ]
     },
     "execution_count": 28,
     "metadata": {},
     "output_type": "execute_result"
    }
   ],
   "source": [
    "hist.append({\n",
    "    'desc': 'normalizada con 2 podas aumentando porcentaje de poda',\n",
    "    'mae':  5.797336101531982,\n",
    "    'mae_kaggle': None # pendiente\n",
    "})\n",
    "\n",
    "pd.DataFrame(hist)"
   ]
  },
  {
   "cell_type": "code",
   "execution_count": null,
   "metadata": {},
   "outputs": [],
   "source": []
  }
 ],
 "metadata": {
  "kernelspec": {
   "display_name": "dlproject",
   "language": "python",
   "name": "python3"
  },
  "language_info": {
   "codemirror_mode": {
    "name": "ipython",
    "version": 3
   },
   "file_extension": ".py",
   "mimetype": "text/x-python",
   "name": "python",
   "nbconvert_exporter": "python",
   "pygments_lexer": "ipython3",
   "version": "3.10.13"
  }
 },
 "nbformat": 4,
 "nbformat_minor": 2
}
