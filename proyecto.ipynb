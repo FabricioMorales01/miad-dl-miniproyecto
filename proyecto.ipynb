{
 "cells": [
  {
   "cell_type": "markdown",
   "metadata": {},
   "source": [
    "# Mini proyecto kaggle"
   ]
  },
  {
   "cell_type": "code",
   "execution_count": 36,
   "metadata": {},
   "outputs": [],
   "source": [
    "import numpy as np\n",
    "import pandas as pd\n",
    "from sklearn.model_selection import train_test_split\n",
    "from sklearn.preprocessing import StandardScaler\n",
    "import tensorflow as tf\n",
    "from tensorflow.keras.models import Sequential\n",
    "from tensorflow.keras.layers import Dense, Dropout, BatchNormalization\n",
    "from tensorflow.keras.optimizers import Adam"
   ]
  },
  {
   "cell_type": "code",
   "execution_count": 27,
   "metadata": {},
   "outputs": [
    {
     "data": {
      "text/plain": [
       "[]"
      ]
     },
     "execution_count": 27,
     "metadata": {},
     "output_type": "execute_result"
    }
   ],
   "source": [
    "tf.config.list_physical_devices('GPU')\n"
   ]
  },
  {
   "cell_type": "code",
   "execution_count": 62,
   "metadata": {},
   "outputs": [],
   "source": [
    "hist = []"
   ]
  },
  {
   "cell_type": "code",
   "execution_count": 3,
   "metadata": {},
   "outputs": [],
   "source": [
    "train = pd.read_csv('./data/train.csv')\n",
    "evaluetion = pd.read_csv('./data/test.csv')\n",
    "\n"
   ]
  },
  {
   "cell_type": "markdown",
   "metadata": {},
   "source": [
    "## 1. Explorar data"
   ]
  },
  {
   "cell_type": "code",
   "execution_count": 4,
   "metadata": {},
   "outputs": [
    {
     "name": "stdout",
     "output_type": "stream",
     "text": [
      "<class 'pandas.core.frame.DataFrame'>\n",
      "RangeIndex: 77779 entries, 0 to 77778\n",
      "Data columns (total 92 columns):\n",
      " #   Column  Non-Null Count  Dtype  \n",
      "---  ------  --------------  -----  \n",
      " 0   ID      77779 non-null  int64  \n",
      " 1   Y       77779 non-null  int64  \n",
      " 2   V1      77779 non-null  float64\n",
      " 3   V2      77779 non-null  float64\n",
      " 4   V3      77779 non-null  int64  \n",
      " 5   V4      77779 non-null  float64\n",
      " 6   V5      77779 non-null  float64\n",
      " 7   V6      77779 non-null  float64\n",
      " 8   V7      77779 non-null  float64\n",
      " 9   V8      77779 non-null  float64\n",
      " 10  V9      77779 non-null  float64\n",
      " 11  V10     77779 non-null  float64\n",
      " 12  V11     77779 non-null  float64\n",
      " 13  V12     77779 non-null  float64\n",
      " 14  V13     77779 non-null  float64\n",
      " 15  V14     77779 non-null  float64\n",
      " 16  V15     77779 non-null  float64\n",
      " 17  V16     77779 non-null  float64\n",
      " 18  V17     77779 non-null  float64\n",
      " 19  V18     77779 non-null  float64\n",
      " 20  V19     77779 non-null  float64\n",
      " 21  V20     77779 non-null  float64\n",
      " 22  V21     77779 non-null  float64\n",
      " 23  V22     77779 non-null  float64\n",
      " 24  V23     77779 non-null  float64\n",
      " 25  V24     77779 non-null  float64\n",
      " 26  V25     77779 non-null  float64\n",
      " 27  V26     77779 non-null  float64\n",
      " 28  V27     77779 non-null  float64\n",
      " 29  V28     77779 non-null  float64\n",
      " 30  V29     77779 non-null  float64\n",
      " 31  V30     77779 non-null  float64\n",
      " 32  V31     77779 non-null  float64\n",
      " 33  V32     77779 non-null  float64\n",
      " 34  V33     77779 non-null  float64\n",
      " 35  V34     77779 non-null  float64\n",
      " 36  V35     77779 non-null  float64\n",
      " 37  V36     77779 non-null  float64\n",
      " 38  V37     77779 non-null  float64\n",
      " 39  V38     77779 non-null  float64\n",
      " 40  V39     77779 non-null  float64\n",
      " 41  V40     77779 non-null  float64\n",
      " 42  V41     77779 non-null  float64\n",
      " 43  V42     77779 non-null  float64\n",
      " 44  V43     77779 non-null  float64\n",
      " 45  V44     77779 non-null  float64\n",
      " 46  V45     77779 non-null  float64\n",
      " 47  V46     77779 non-null  float64\n",
      " 48  V47     77779 non-null  float64\n",
      " 49  V48     77779 non-null  float64\n",
      " 50  V49     77779 non-null  float64\n",
      " 51  V50     77779 non-null  float64\n",
      " 52  V51     77779 non-null  float64\n",
      " 53  V52     77779 non-null  float64\n",
      " 54  V53     77779 non-null  float64\n",
      " 55  V54     77779 non-null  float64\n",
      " 56  V55     77779 non-null  float64\n",
      " 57  V56     77779 non-null  float64\n",
      " 58  V57     77779 non-null  float64\n",
      " 59  V58     77779 non-null  float64\n",
      " 60  V59     77779 non-null  float64\n",
      " 61  V60     77779 non-null  float64\n",
      " 62  V61     77779 non-null  float64\n",
      " 63  V62     77779 non-null  float64\n",
      " 64  V63     77779 non-null  float64\n",
      " 65  V64     77779 non-null  float64\n",
      " 66  V65     77779 non-null  float64\n",
      " 67  V66     77779 non-null  float64\n",
      " 68  V67     77779 non-null  float64\n",
      " 69  V68     77779 non-null  float64\n",
      " 70  V69     77779 non-null  float64\n",
      " 71  V70     77779 non-null  float64\n",
      " 72  V71     77779 non-null  float64\n",
      " 73  V72     77779 non-null  float64\n",
      " 74  V73     77779 non-null  float64\n",
      " 75  V74     77779 non-null  float64\n",
      " 76  V75     77779 non-null  float64\n",
      " 77  V76     77779 non-null  float64\n",
      " 78  V77     77779 non-null  float64\n",
      " 79  V78     77779 non-null  float64\n",
      " 80  V79     77779 non-null  float64\n",
      " 81  V80     77779 non-null  float64\n",
      " 82  V81     77779 non-null  float64\n",
      " 83  V82     77779 non-null  float64\n",
      " 84  V83     77779 non-null  float64\n",
      " 85  V84     77779 non-null  float64\n",
      " 86  V85     77779 non-null  float64\n",
      " 87  V86     77779 non-null  float64\n",
      " 88  V87     77779 non-null  float64\n",
      " 89  V88     77779 non-null  float64\n",
      " 90  V89     77779 non-null  float64\n",
      " 91  V90     77779 non-null  float64\n",
      "dtypes: float64(89), int64(3)\n",
      "memory usage: 54.6 MB\n"
     ]
    }
   ],
   "source": [
    "train.info()"
   ]
  },
  {
   "cell_type": "markdown",
   "metadata": {},
   "source": [
    "Se cuenta cuantas clases hay por columna"
   ]
  },
  {
   "cell_type": "code",
   "execution_count": 5,
   "metadata": {},
   "outputs": [
    {
     "data": {
      "text/plain": [
       "74"
      ]
     },
     "execution_count": 5,
     "metadata": {},
     "output_type": "execute_result"
    }
   ],
   "source": [
    "len(train['Y'].value_counts())"
   ]
  },
  {
   "cell_type": "code",
   "execution_count": 6,
   "metadata": {},
   "outputs": [
    {
     "name": "stdout",
     "output_type": "stream",
     "text": [
      "ID = 77779\n",
      "Y = 74\n",
      "V1 = 76309\n",
      "V2 = 75683\n",
      "V3 = 1\n",
      "V4 = 77216\n",
      "V5 = 77119\n",
      "V6 = 76607\n",
      "V7 = 77386\n",
      "V8 = 77034\n",
      "V9 = 76852\n",
      "V10 = 76373\n",
      "V11 = 77483\n",
      "V12 = 77584\n",
      "V13 = 77278\n",
      "V14 = 77750\n",
      "V15 = 77752\n",
      "V16 = 77753\n",
      "V17 = 77736\n",
      "V18 = 77738\n",
      "V19 = 77725\n",
      "V20 = 77716\n",
      "V21 = 77701\n",
      "V22 = 77692\n",
      "V23 = 77692\n",
      "V24 = 77665\n",
      "V25 = 77633\n",
      "V26 = 77740\n",
      "V27 = 77738\n",
      "V28 = 77695\n",
      "V29 = 77673\n",
      "V30 = 77687\n",
      "V31 = 77645\n",
      "V32 = 77616\n",
      "V33 = 77595\n",
      "V34 = 77503\n",
      "V35 = 77461\n",
      "V36 = 77643\n",
      "V37 = 77736\n",
      "V38 = 77737\n",
      "V39 = 77715\n",
      "V40 = 77700\n",
      "V41 = 77663\n",
      "V42 = 77656\n",
      "V43 = 77585\n",
      "V44 = 77456\n",
      "V45 = 77504\n",
      "V46 = 77551\n",
      "V47 = 77732\n",
      "V48 = 77712\n",
      "V49 = 77690\n",
      "V50 = 77652\n",
      "V51 = 77649\n",
      "V52 = 77602\n",
      "V53 = 77584\n",
      "V54 = 77633\n",
      "V55 = 77524\n",
      "V56 = 77711\n",
      "V57 = 77715\n",
      "V58 = 77708\n",
      "V59 = 77702\n",
      "V60 = 77675\n",
      "V61 = 77559\n",
      "V62 = 77554\n",
      "V63 = 77431\n",
      "V64 = 77707\n",
      "V65 = 77697\n",
      "V66 = 77666\n",
      "V67 = 77643\n",
      "V68 = 77629\n",
      "V69 = 77638\n",
      "V70 = 77446\n",
      "V71 = 77712\n",
      "V72 = 77712\n",
      "V73 = 77681\n",
      "V74 = 77608\n",
      "V75 = 77595\n",
      "V76 = 77259\n",
      "V77 = 77711\n",
      "V78 = 77692\n",
      "V79 = 77682\n",
      "V80 = 77672\n",
      "V81 = 77364\n",
      "V82 = 77706\n",
      "V83 = 77669\n",
      "V84 = 77619\n",
      "V85 = 77109\n",
      "V86 = 77682\n",
      "V87 = 77685\n",
      "V88 = 76938\n",
      "V89 = 77700\n",
      "V90 = 77171\n"
     ]
    }
   ],
   "source": [
    "for c in train.columns:\n",
    "    print(f'{c} = {len(train[c].value_counts())}')"
   ]
  },
  {
   "cell_type": "markdown",
   "metadata": {},
   "source": [
    "> V3 podrias ser eliminado ????????????"
   ]
  },
  {
   "cell_type": "markdown",
   "metadata": {},
   "source": [
    "## 2. Implementar NN"
   ]
  },
  {
   "cell_type": "markdown",
   "metadata": {},
   "source": [
    "### 2.1 Preparación "
   ]
  },
  {
   "cell_type": "code",
   "execution_count": 37,
   "metadata": {},
   "outputs": [
    {
     "name": "stderr",
     "output_type": "stream",
     "text": [
      "c:\\Users\\facio\\anaconda3\\envs\\tfproject\\lib\\site-packages\\sklearn\\base.py:486: UserWarning: X has feature names, but StandardScaler was fitted without feature names\n",
      "  warnings.warn(\n"
     ]
    }
   ],
   "source": [
    "data = train.drop(columns=['ID', 'V3'])\n",
    "\n",
    "X = data.drop(columns=['Y']).values\n",
    "y = data['Y'].values\n",
    "\n",
    "# División de los datos en conjunto de entrenamiento y prueba\n",
    "X_train, X_test, y_train, y_test = train_test_split(X, y, test_size=0.2, random_state=42)\n",
    "\n",
    "# Normalización de las características\n",
    "scaler = StandardScaler()\n",
    "X_train_scaled = scaler.fit_transform(X_train)\n",
    "X_test_scaled = scaler.transform(X_test)\n",
    "\n",
    "# Escala datos de validavión\n",
    "data_eval= evaluetion.drop(columns=['ID', 'V3'])\n",
    "data_eval = scaler.transform(data_eval)"
   ]
  },
  {
   "cell_type": "markdown",
   "metadata": {},
   "source": [
    "### 2.2 Construcción de modelo"
   ]
  },
  {
   "cell_type": "code",
   "execution_count": 64,
   "metadata": {},
   "outputs": [],
   "source": [
    "model = Sequential([\n",
    "    Dense(128, activation='relu', input_shape=(X_train_scaled.shape[1],)),\n",
    "    BatchNormalization(),\n",
    "    # Dropout(0.1),\n",
    "    Dense(64, activation='relu'),\n",
    "    BatchNormalization(),\n",
    "    Dropout(0.1),\n",
    "    Dense(32, activation='relu'),\n",
    "    BatchNormalization(),\n",
    "    # Dropout(0.1),\n",
    "    Dense(1, activation='linear') \n",
    "])\n",
    "\n",
    "model.compile(optimizer=Adam(learning_rate=0.001), loss='mse', metrics=['mae'])"
   ]
  },
  {
   "cell_type": "code",
   "execution_count": 65,
   "metadata": {},
   "outputs": [
    {
     "name": "stdout",
     "output_type": "stream",
     "text": [
      "Epoch 1/100\n",
      "219/219 - 2s - loss: 4001950.5000 - mae: 2000.4651 - val_loss: 3988217.5000 - val_mae: 1997.0321 - 2s/epoch - 9ms/step\n",
      "Epoch 2/100\n",
      "219/219 - 1s - loss: 3967470.5000 - mae: 1991.8279 - val_loss: 3937507.2500 - val_mae: 1984.2960 - 564ms/epoch - 3ms/step\n",
      "Epoch 3/100\n",
      "219/219 - 1s - loss: 3902790.7500 - mae: 1975.5212 - val_loss: 3859114.0000 - val_mae: 1964.4434 - 556ms/epoch - 3ms/step\n",
      "Epoch 4/100\n",
      "219/219 - 1s - loss: 3810507.2500 - mae: 1952.0179 - val_loss: 3754893.2500 - val_mae: 1937.7350 - 564ms/epoch - 3ms/step\n",
      "Epoch 5/100\n",
      "219/219 - 1s - loss: 3694040.7500 - mae: 1921.9463 - val_loss: 3627810.2500 - val_mae: 1904.6609 - 555ms/epoch - 3ms/step\n",
      "Epoch 6/100\n",
      "219/219 - 1s - loss: 3556866.2500 - mae: 1885.9143 - val_loss: 3481254.7500 - val_mae: 1865.7916 - 559ms/epoch - 3ms/step\n",
      "Epoch 7/100\n",
      "219/219 - 1s - loss: 3402342.0000 - mae: 1844.4834 - val_loss: 3318503.7500 - val_mae: 1821.6555 - 553ms/epoch - 3ms/step\n",
      "Epoch 8/100\n",
      "219/219 - 1s - loss: 3233651.7500 - mae: 1798.1627 - val_loss: 3144629.7500 - val_mae: 1773.2885 - 551ms/epoch - 3ms/step\n",
      "Epoch 9/100\n",
      "219/219 - 1s - loss: 3053767.2500 - mae: 1747.4185 - val_loss: 2960054.7500 - val_mae: 1720.4583 - 555ms/epoch - 3ms/step\n",
      "Epoch 10/100\n",
      "219/219 - 1s - loss: 2865459.5000 - mae: 1692.6689 - val_loss: 2769506.7500 - val_mae: 1664.1600 - 566ms/epoch - 3ms/step\n",
      "Epoch 11/100\n",
      "219/219 - 1s - loss: 2671305.0000 - mae: 1634.3009 - val_loss: 2570744.0000 - val_mae: 1603.3302 - 567ms/epoch - 3ms/step\n",
      "Epoch 12/100\n",
      "219/219 - 1s - loss: 2473688.0000 - mae: 1572.6725 - val_loss: 2375029.0000 - val_mae: 1541.0880 - 570ms/epoch - 3ms/step\n",
      "Epoch 13/100\n",
      "219/219 - 1s - loss: 2274817.5000 - mae: 1508.1091 - val_loss: 2173948.2500 - val_mae: 1474.4049 - 571ms/epoch - 3ms/step\n",
      "Epoch 14/100\n",
      "219/219 - 1s - loss: 2076739.1250 - mae: 1440.9346 - val_loss: 1976656.0000 - val_mae: 1405.9086 - 561ms/epoch - 3ms/step\n",
      "Epoch 15/100\n",
      "219/219 - 1s - loss: 1881339.3750 - mae: 1371.4480 - val_loss: 1784544.7500 - val_mae: 1335.8391 - 557ms/epoch - 3ms/step\n",
      "Epoch 16/100\n",
      "219/219 - 1s - loss: 1690360.2500 - mae: 1299.9485 - val_loss: 1595807.0000 - val_mae: 1263.2214 - 561ms/epoch - 3ms/step\n",
      "Epoch 17/100\n",
      "219/219 - 1s - loss: 1505394.5000 - mae: 1226.7368 - val_loss: 1414228.3750 - val_mae: 1189.1803 - 585ms/epoch - 3ms/step\n",
      "Epoch 18/100\n",
      "219/219 - 1s - loss: 1327893.7500 - mae: 1152.1132 - val_loss: 1241001.0000 - val_mae: 1113.9668 - 563ms/epoch - 3ms/step\n",
      "Epoch 19/100\n",
      "219/219 - 1s - loss: 1159164.3750 - mae: 1076.3950 - val_loss: 1076768.3750 - val_mae: 1037.6362 - 561ms/epoch - 3ms/step\n",
      "Epoch 20/100\n",
      "219/219 - 1s - loss: 1000361.3750 - mae: 999.9095 - val_loss: 923795.8750 - val_mae: 961.1015 - 574ms/epoch - 3ms/step\n",
      "Epoch 21/100\n",
      "219/219 - 1s - loss: 852482.9375 - mae: 923.0059 - val_loss: 781527.7500 - val_mae: 883.9956 - 592ms/epoch - 3ms/step\n",
      "Epoch 22/100\n",
      "219/219 - 1s - loss: 716360.2500 - mae: 846.0601 - val_loss: 651616.6250 - val_mae: 807.1783 - 630ms/epoch - 3ms/step\n",
      "Epoch 23/100\n",
      "219/219 - 1s - loss: 592639.1875 - mae: 769.4821 - val_loss: 534515.0000 - val_mae: 731.0507 - 618ms/epoch - 3ms/step\n",
      "Epoch 24/100\n",
      "219/219 - 1s - loss: 481766.6562 - mae: 693.7182 - val_loss: 430744.0000 - val_mae: 656.2501 - 626ms/epoch - 3ms/step\n",
      "Epoch 25/100\n",
      "219/219 - 1s - loss: 383974.6875 - mae: 619.2516 - val_loss: 339485.4688 - val_mae: 582.5840 - 588ms/epoch - 3ms/step\n",
      "Epoch 26/100\n",
      "219/219 - 1s - loss: 299262.6250 - mae: 546.6155 - val_loss: 261049.7188 - val_mae: 510.8528 - 668ms/epoch - 3ms/step\n",
      "Epoch 27/100\n",
      "219/219 - 1s - loss: 227382.1562 - mae: 476.3780 - val_loss: 195464.9062 - val_mae: 442.0238 - 886ms/epoch - 4ms/step\n",
      "Epoch 28/100\n",
      "219/219 - 1s - loss: 167822.5938 - mae: 409.1663 - val_loss: 141956.9531 - val_mae: 376.6663 - 695ms/epoch - 3ms/step\n",
      "Epoch 29/100\n",
      "219/219 - 1s - loss: 119818.3594 - mae: 345.6233 - val_loss: 99217.2344 - val_mae: 314.8583 - 637ms/epoch - 3ms/step\n",
      "Epoch 30/100\n",
      "219/219 - 1s - loss: 82349.5469 - mae: 286.4142 - val_loss: 66812.3047 - val_mae: 258.3249 - 665ms/epoch - 3ms/step\n",
      "Epoch 31/100\n",
      "219/219 - 1s - loss: 54181.2109 - mae: 232.1878 - val_loss: 42705.3867 - val_mae: 206.4549 - 719ms/epoch - 3ms/step\n",
      "Epoch 32/100\n",
      "219/219 - 1s - loss: 33911.5703 - mae: 183.5456 - val_loss: 25963.7656 - val_mae: 160.8831 - 680ms/epoch - 3ms/step\n",
      "Epoch 33/100\n",
      "219/219 - 1s - loss: 20051.1426 - mae: 140.9732 - val_loss: 14891.2051 - val_mae: 121.6939 - 618ms/epoch - 3ms/step\n",
      "Epoch 34/100\n",
      "219/219 - 1s - loss: 11115.5967 - mae: 104.7712 - val_loss: 7938.1597 - val_mae: 88.6473 - 596ms/epoch - 3ms/step\n",
      "Epoch 35/100\n",
      "219/219 - 1s - loss: 5734.2007 - mae: 75.0208 - val_loss: 3954.9988 - val_mae: 62.2391 - 592ms/epoch - 3ms/step\n",
      "Epoch 36/100\n",
      "219/219 - 1s - loss: 2734.8845 - mae: 51.5060 - val_loss: 1786.0116 - val_mae: 41.2863 - 592ms/epoch - 3ms/step\n",
      "Epoch 37/100\n",
      "219/219 - 1s - loss: 1203.1912 - mae: 33.7454 - val_loss: 794.1210 - val_mae: 26.9210 - 600ms/epoch - 3ms/step\n",
      "Epoch 38/100\n",
      "219/219 - 1s - loss: 494.7245 - mae: 21.0942 - val_loss: 341.1490 - val_mae: 17.0268 - 597ms/epoch - 3ms/step\n",
      "Epoch 39/100\n",
      "219/219 - 1s - loss: 200.9940 - mae: 12.8505 - val_loss: 160.4039 - val_mae: 10.8641 - 598ms/epoch - 3ms/step\n",
      "Epoch 40/100\n",
      "219/219 - 1s - loss: 92.1236 - mae: 8.1472 - val_loss: 105.5079 - val_mae: 8.0911 - 598ms/epoch - 3ms/step\n",
      "Epoch 41/100\n",
      "219/219 - 1s - loss: 56.8176 - mae: 6.0092 - val_loss: 88.7932 - val_mae: 6.9462 - 602ms/epoch - 3ms/step\n",
      "Epoch 42/100\n",
      "219/219 - 1s - loss: 47.5858 - mae: 5.2521 - val_loss: 81.6590 - val_mae: 6.3595 - 647ms/epoch - 3ms/step\n",
      "Epoch 43/100\n",
      "219/219 - 1s - loss: 45.0988 - mae: 5.0092 - val_loss: 81.5208 - val_mae: 6.2476 - 680ms/epoch - 3ms/step\n",
      "Epoch 44/100\n",
      "219/219 - 1s - loss: 43.9248 - mae: 4.8964 - val_loss: 81.5449 - val_mae: 6.2586 - 622ms/epoch - 3ms/step\n",
      "Epoch 45/100\n",
      "219/219 - 1s - loss: 43.5263 - mae: 4.8646 - val_loss: 81.9365 - val_mae: 6.2073 - 615ms/epoch - 3ms/step\n",
      "Epoch 46/100\n",
      "219/219 - 1s - loss: 43.4173 - mae: 4.8296 - val_loss: 82.4990 - val_mae: 6.2264 - 583ms/epoch - 3ms/step\n",
      "Epoch 47/100\n",
      "219/219 - 1s - loss: 43.6244 - mae: 4.8526 - val_loss: 81.6154 - val_mae: 6.2227 - 615ms/epoch - 3ms/step\n",
      "Epoch 48/100\n",
      "219/219 - 1s - loss: 43.0619 - mae: 4.8330 - val_loss: 82.3339 - val_mae: 6.2269 - 584ms/epoch - 3ms/step\n",
      "Epoch 49/100\n",
      "219/219 - 1s - loss: 43.0092 - mae: 4.8201 - val_loss: 82.5029 - val_mae: 6.1867 - 583ms/epoch - 3ms/step\n",
      "Epoch 50/100\n",
      "219/219 - 1s - loss: 42.5821 - mae: 4.7997 - val_loss: 81.5406 - val_mae: 6.1927 - 588ms/epoch - 3ms/step\n",
      "Epoch 51/100\n",
      "219/219 - 1s - loss: 42.6238 - mae: 4.8036 - val_loss: 82.5626 - val_mae: 6.2338 - 583ms/epoch - 3ms/step\n",
      "Epoch 52/100\n",
      "219/219 - 1s - loss: 42.4100 - mae: 4.7792 - val_loss: 82.3238 - val_mae: 6.1677 - 606ms/epoch - 3ms/step\n",
      "Epoch 53/100\n",
      "219/219 - 1s - loss: 42.1972 - mae: 4.7748 - val_loss: 81.5390 - val_mae: 6.1593 - 597ms/epoch - 3ms/step\n"
     ]
    }
   ],
   "source": [
    "# Entrenamiento del modelo\n",
    "history = model.fit(X_train_scaled, y_train, validation_split=0.1, epochs=100, batch_size=256, verbose=2, callbacks=[tf.keras.callbacks.EarlyStopping(monitor='val_loss', patience=10)])"
   ]
  },
  {
   "cell_type": "code",
   "execution_count": 66,
   "metadata": {},
   "outputs": [
    {
     "name": "stdout",
     "output_type": "stream",
     "text": [
      "487/487 [==============================] - 1s 1ms/step - loss: 81.6435 - mae: 6.1868\n",
      "Test Loss: 81.64350891113281, Test MAE: 6.186800956726074\n"
     ]
    }
   ],
   "source": [
    "# Evaluación del modelo en el conjunto de prueba\n",
    "test_loss, test_mae = model.evaluate(X_test_scaled, y_test)\n",
    "print(f\"Test Loss: {test_loss}, Test MAE: {test_mae}\")"
   ]
  },
  {
   "cell_type": "markdown",
   "metadata": {},
   "source": [
    "### 2.3 Visualización"
   ]
  },
  {
   "cell_type": "code",
   "execution_count": null,
   "metadata": {},
   "outputs": [],
   "source": []
  },
  {
   "cell_type": "code",
   "execution_count": 54,
   "metadata": {},
   "outputs": [
    {
     "data": {
      "image/png": "[encoded data removed]",
      "text/plain": [
       "<Figure size 1200x500 with 2 Axes>"
      ]
     },
     "metadata": {},
     "output_type": "display_data"
    }
   ],
   "source": [
    "import matplotlib.pyplot as plt\n",
    "\n",
    "# Gráficos de pérdida y MAE\n",
    "plt.figure(figsize=(12, 5))\n",
    "plt.subplot(1, 2, 1)\n",
    "plt.plot(history.history['loss'], label='Train Loss')\n",
    "plt.plot(history.history['val_loss'], label='Validation Loss')\n",
    "plt.title('Model Loss')\n",
    "plt.ylabel('Loss')\n",
    "plt.xlabel('Epoch')\n",
    "plt.legend()\n",
    "\n",
    "plt.subplot(1, 2, 2)\n",
    "plt.plot(history.history['mae'], label='Train MAE')\n",
    "plt.plot(history.history['val_mae'], label='Validation MAE')\n",
    "plt.title('Model MAE')\n",
    "plt.ylabel('Mean Absolute Error')\n",
    "plt.xlabel('Epoch')\n",
    "plt.legend()\n",
    "\n",
    "plt.show()\n"
   ]
  },
  {
   "cell_type": "markdown",
   "metadata": {},
   "source": [
    "# Predicción"
   ]
  },
  {
   "cell_type": "code",
   "execution_count": null,
   "metadata": {},
   "outputs": [],
   "source": []
  },
  {
   "cell_type": "code",
   "execution_count": 67,
   "metadata": {},
   "outputs": [
    {
     "name": "stdout",
     "output_type": "stream",
     "text": [
      "584/584 [==============================] - 1s 1ms/step\n"
     ]
    },
    {
     "name": "stderr",
     "output_type": "stream",
     "text": [
      "C:\\Users\\facio\\AppData\\Local\\Temp\\ipykernel_5536\\2383613268.py:5: SettingWithCopyWarning: \n",
      "A value is trying to be set on a copy of a slice from a DataFrame.\n",
      "Try using .loc[row_indexer,col_indexer] = value instead\n",
      "\n",
      "See the caveats in the documentation: https://pandas.pydata.org/pandas-docs/stable/user_guide/indexing.html#returning-a-view-versus-a-copy\n",
      "  df['Y'] = y_predict\n"
     ]
    }
   ],
   "source": [
    "def save_data(model, name):\n",
    "    y_predict = model.predict(data_eval)\n",
    "\n",
    "    df = evaluetion[['ID']]\n",
    "    df['Y'] = y_predict\n",
    "    df.to_csv(f'predict/{name}.csv', index=False)\n",
    "\n",
    "save_data(model, 'normalizada-poda')"
   ]
  },
  {
   "cell_type": "code",
   "execution_count": 56,
   "metadata": {},
   "outputs": [
    {
     "name": "stdout",
     "output_type": "stream",
     "text": [
      "INFO:tensorflow:Assets written to: ram://ce156ec7-9e37-46b8-bda6-703c9aaca2d2/assets\n"
     ]
    }
   ],
   "source": [
    "import pickle\n",
    "\n",
    "def save_model(model, name):\n",
    "    with open(f'./models/{name}.pkl', 'wb') as archivo_salida:\n",
    "        pickle.dump(model, archivo_salida)\n",
    "\n",
    "save_model(model, 'dropout-sample')"
   ]
  },
  {
   "cell_type": "code",
   "execution_count": 23,
   "metadata": {},
   "outputs": [],
   "source": []
  },
  {
   "cell_type": "code",
   "execution_count": 68,
   "metadata": {},
   "outputs": [
    {
     "data": {
      "text/html": [
       "<div>\n",
       "<style scoped>\n",
       "    .dataframe tbody tr th:only-of-type {\n",
       "        vertical-align: middle;\n",
       "    }\n",
       "\n",
       "    .dataframe tbody tr th {\n",
       "        vertical-align: top;\n",
       "    }\n",
       "\n",
       "    .dataframe thead th {\n",
       "        text-align: right;\n",
       "    }\n",
       "</style>\n",
       "<table border=\"1\" class=\"dataframe\">\n",
       "  <thead>\n",
       "    <tr style=\"text-align: right;\">\n",
       "      <th></th>\n",
       "      <th>n</th>\n",
       "      <th>desc</th>\n",
       "      <th>mae</th>\n",
       "      <th>mae_kaggle</th>\n",
       "    </tr>\n",
       "  </thead>\n",
       "  <tbody>\n",
       "    <tr>\n",
       "      <th>0</th>\n",
       "      <td>5</td>\n",
       "      <td>normalizada con una poda</td>\n",
       "      <td>6.186801</td>\n",
       "      <td>9.16731</td>\n",
       "    </tr>\n",
       "  </tbody>\n",
       "</table>\n",
       "</div>"
      ],
      "text/plain": [
       "   n                      desc       mae  mae_kaggle\n",
       "0  5  normalizada con una poda  6.186801     9.16731"
      ]
     },
     "execution_count": 68,
     "metadata": {},
     "output_type": "execute_result"
    }
   ],
   "source": [
    "hist.append({\n",
    "    'n': '5',\n",
    "    'desc': 'normalizada con una poda',\n",
    "    'mae':  6.186800956726074,\n",
    "    'mae_kaggle': 9.16731 \n",
    "})\n",
    "\n",
    "pd.DataFrame(hist)"
   ]
  },
  {
   "cell_type": "code",
   "execution_count": null,
   "metadata": {},
   "outputs": [],
   "source": []
  }
 ],
 "metadata": {
  "kernelspec": {
   "display_name": "dlproject",
   "language": "python",
   "name": "python3"
  },
  "language_info": {
   "codemirror_mode": {
    "name": "ipython",
    "version": 3
   },
   "file_extension": ".py",
   "mimetype": "text/x-python",
   "name": "python",
   "nbconvert_exporter": "python",
   "pygments_lexer": "ipython3",
   "version": "3.10.13"
  }
 },
 "nbformat": 4,
 "nbformat_minor": 2
}
