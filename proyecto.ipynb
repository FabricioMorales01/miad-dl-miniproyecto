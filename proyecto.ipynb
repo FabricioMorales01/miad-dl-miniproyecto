{
 "cells": [
  {
   "cell_type": "markdown",
   "metadata": {},
   "source": [
    "# Mini proyecto kaggle"
   ]
  },
  {
   "cell_type": "code",
   "execution_count": 36,
   "metadata": {},
   "outputs": [],
   "source": [
    "import numpy as np\n",
    "import pandas as pd\n",
    "from sklearn.model_selection import train_test_split\n",
    "from sklearn.preprocessing import StandardScaler\n",
    "import tensorflow as tf\n",
    "from tensorflow.keras.models import Sequential\n",
    "from tensorflow.keras.layers import Dense, Dropout, BatchNormalization\n",
    "from tensorflow.keras.optimizers import Adam"
   ]
  },
  {
   "cell_type": "code",
   "execution_count": 75,
   "metadata": {},
   "outputs": [
    {
     "data": {
      "text/plain": [
       "[]"
      ]
     },
     "execution_count": 75,
     "metadata": {},
     "output_type": "execute_result"
    }
   ],
   "source": [
    "tf.config.list_physical_devices('GPU')\n"
   ]
  },
  {
   "cell_type": "code",
   "execution_count": 62,
   "metadata": {},
   "outputs": [],
   "source": [
    "hist = []"
   ]
  },
  {
   "cell_type": "code",
   "execution_count": 3,
   "metadata": {},
   "outputs": [],
   "source": [
    "train = pd.read_csv('./data/train.csv')\n",
    "evaluetion = pd.read_csv('./data/test.csv')\n",
    "\n"
   ]
  },
  {
   "cell_type": "markdown",
   "metadata": {},
   "source": [
    "## 1. Explorar data"
   ]
  },
  {
   "cell_type": "code",
   "execution_count": 4,
   "metadata": {},
   "outputs": [
    {
     "name": "stdout",
     "output_type": "stream",
     "text": [
      "<class 'pandas.core.frame.DataFrame'>\n",
      "RangeIndex: 77779 entries, 0 to 77778\n",
      "Data columns (total 92 columns):\n",
      " #   Column  Non-Null Count  Dtype  \n",
      "---  ------  --------------  -----  \n",
      " 0   ID      77779 non-null  int64  \n",
      " 1   Y       77779 non-null  int64  \n",
      " 2   V1      77779 non-null  float64\n",
      " 3   V2      77779 non-null  float64\n",
      " 4   V3      77779 non-null  int64  \n",
      " 5   V4      77779 non-null  float64\n",
      " 6   V5      77779 non-null  float64\n",
      " 7   V6      77779 non-null  float64\n",
      " 8   V7      77779 non-null  float64\n",
      " 9   V8      77779 non-null  float64\n",
      " 10  V9      77779 non-null  float64\n",
      " 11  V10     77779 non-null  float64\n",
      " 12  V11     77779 non-null  float64\n",
      " 13  V12     77779 non-null  float64\n",
      " 14  V13     77779 non-null  float64\n",
      " 15  V14     77779 non-null  float64\n",
      " 16  V15     77779 non-null  float64\n",
      " 17  V16     77779 non-null  float64\n",
      " 18  V17     77779 non-null  float64\n",
      " 19  V18     77779 non-null  float64\n",
      " 20  V19     77779 non-null  float64\n",
      " 21  V20     77779 non-null  float64\n",
      " 22  V21     77779 non-null  float64\n",
      " 23  V22     77779 non-null  float64\n",
      " 24  V23     77779 non-null  float64\n",
      " 25  V24     77779 non-null  float64\n",
      " 26  V25     77779 non-null  float64\n",
      " 27  V26     77779 non-null  float64\n",
      " 28  V27     77779 non-null  float64\n",
      " 29  V28     77779 non-null  float64\n",
      " 30  V29     77779 non-null  float64\n",
      " 31  V30     77779 non-null  float64\n",
      " 32  V31     77779 non-null  float64\n",
      " 33  V32     77779 non-null  float64\n",
      " 34  V33     77779 non-null  float64\n",
      " 35  V34     77779 non-null  float64\n",
      " 36  V35     77779 non-null  float64\n",
      " 37  V36     77779 non-null  float64\n",
      " 38  V37     77779 non-null  float64\n",
      " 39  V38     77779 non-null  float64\n",
      " 40  V39     77779 non-null  float64\n",
      " 41  V40     77779 non-null  float64\n",
      " 42  V41     77779 non-null  float64\n",
      " 43  V42     77779 non-null  float64\n",
      " 44  V43     77779 non-null  float64\n",
      " 45  V44     77779 non-null  float64\n",
      " 46  V45     77779 non-null  float64\n",
      " 47  V46     77779 non-null  float64\n",
      " 48  V47     77779 non-null  float64\n",
      " 49  V48     77779 non-null  float64\n",
      " 50  V49     77779 non-null  float64\n",
      " 51  V50     77779 non-null  float64\n",
      " 52  V51     77779 non-null  float64\n",
      " 53  V52     77779 non-null  float64\n",
      " 54  V53     77779 non-null  float64\n",
      " 55  V54     77779 non-null  float64\n",
      " 56  V55     77779 non-null  float64\n",
      " 57  V56     77779 non-null  float64\n",
      " 58  V57     77779 non-null  float64\n",
      " 59  V58     77779 non-null  float64\n",
      " 60  V59     77779 non-null  float64\n",
      " 61  V60     77779 non-null  float64\n",
      " 62  V61     77779 non-null  float64\n",
      " 63  V62     77779 non-null  float64\n",
      " 64  V63     77779 non-null  float64\n",
      " 65  V64     77779 non-null  float64\n",
      " 66  V65     77779 non-null  float64\n",
      " 67  V66     77779 non-null  float64\n",
      " 68  V67     77779 non-null  float64\n",
      " 69  V68     77779 non-null  float64\n",
      " 70  V69     77779 non-null  float64\n",
      " 71  V70     77779 non-null  float64\n",
      " 72  V71     77779 non-null  float64\n",
      " 73  V72     77779 non-null  float64\n",
      " 74  V73     77779 non-null  float64\n",
      " 75  V74     77779 non-null  float64\n",
      " 76  V75     77779 non-null  float64\n",
      " 77  V76     77779 non-null  float64\n",
      " 78  V77     77779 non-null  float64\n",
      " 79  V78     77779 non-null  float64\n",
      " 80  V79     77779 non-null  float64\n",
      " 81  V80     77779 non-null  float64\n",
      " 82  V81     77779 non-null  float64\n",
      " 83  V82     77779 non-null  float64\n",
      " 84  V83     77779 non-null  float64\n",
      " 85  V84     77779 non-null  float64\n",
      " 86  V85     77779 non-null  float64\n",
      " 87  V86     77779 non-null  float64\n",
      " 88  V87     77779 non-null  float64\n",
      " 89  V88     77779 non-null  float64\n",
      " 90  V89     77779 non-null  float64\n",
      " 91  V90     77779 non-null  float64\n",
      "dtypes: float64(89), int64(3)\n",
      "memory usage: 54.6 MB\n"
     ]
    }
   ],
   "source": [
    "train.info()"
   ]
  },
  {
   "cell_type": "markdown",
   "metadata": {},
   "source": [
    "Se cuenta cuantas clases hay por columna"
   ]
  },
  {
   "cell_type": "code",
   "execution_count": 5,
   "metadata": {},
   "outputs": [
    {
     "data": {
      "text/plain": [
       "74"
      ]
     },
     "execution_count": 5,
     "metadata": {},
     "output_type": "execute_result"
    }
   ],
   "source": [
    "len(train['Y'].value_counts())"
   ]
  },
  {
   "cell_type": "code",
   "execution_count": 6,
   "metadata": {},
   "outputs": [
    {
     "name": "stdout",
     "output_type": "stream",
     "text": [
      "ID = 77779\n",
      "Y = 74\n",
      "V1 = 76309\n",
      "V2 = 75683\n",
      "V3 = 1\n",
      "V4 = 77216\n",
      "V5 = 77119\n",
      "V6 = 76607\n",
      "V7 = 77386\n",
      "V8 = 77034\n",
      "V9 = 76852\n",
      "V10 = 76373\n",
      "V11 = 77483\n",
      "V12 = 77584\n",
      "V13 = 77278\n",
      "V14 = 77750\n",
      "V15 = 77752\n",
      "V16 = 77753\n",
      "V17 = 77736\n",
      "V18 = 77738\n",
      "V19 = 77725\n",
      "V20 = 77716\n",
      "V21 = 77701\n",
      "V22 = 77692\n",
      "V23 = 77692\n",
      "V24 = 77665\n",
      "V25 = 77633\n",
      "V26 = 77740\n",
      "V27 = 77738\n",
      "V28 = 77695\n",
      "V29 = 77673\n",
      "V30 = 77687\n",
      "V31 = 77645\n",
      "V32 = 77616\n",
      "V33 = 77595\n",
      "V34 = 77503\n",
      "V35 = 77461\n",
      "V36 = 77643\n",
      "V37 = 77736\n",
      "V38 = 77737\n",
      "V39 = 77715\n",
      "V40 = 77700\n",
      "V41 = 77663\n",
      "V42 = 77656\n",
      "V43 = 77585\n",
      "V44 = 77456\n",
      "V45 = 77504\n",
      "V46 = 77551\n",
      "V47 = 77732\n",
      "V48 = 77712\n",
      "V49 = 77690\n",
      "V50 = 77652\n",
      "V51 = 77649\n",
      "V52 = 77602\n",
      "V53 = 77584\n",
      "V54 = 77633\n",
      "V55 = 77524\n",
      "V56 = 77711\n",
      "V57 = 77715\n",
      "V58 = 77708\n",
      "V59 = 77702\n",
      "V60 = 77675\n",
      "V61 = 77559\n",
      "V62 = 77554\n",
      "V63 = 77431\n",
      "V64 = 77707\n",
      "V65 = 77697\n",
      "V66 = 77666\n",
      "V67 = 77643\n",
      "V68 = 77629\n",
      "V69 = 77638\n",
      "V70 = 77446\n",
      "V71 = 77712\n",
      "V72 = 77712\n",
      "V73 = 77681\n",
      "V74 = 77608\n",
      "V75 = 77595\n",
      "V76 = 77259\n",
      "V77 = 77711\n",
      "V78 = 77692\n",
      "V79 = 77682\n",
      "V80 = 77672\n",
      "V81 = 77364\n",
      "V82 = 77706\n",
      "V83 = 77669\n",
      "V84 = 77619\n",
      "V85 = 77109\n",
      "V86 = 77682\n",
      "V87 = 77685\n",
      "V88 = 76938\n",
      "V89 = 77700\n",
      "V90 = 77171\n"
     ]
    }
   ],
   "source": [
    "for c in train.columns:\n",
    "    print(f'{c} = {len(train[c].value_counts())}')"
   ]
  },
  {
   "cell_type": "markdown",
   "metadata": {},
   "source": [
    "> V3 podrias ser eliminado ????????????"
   ]
  },
  {
   "cell_type": "markdown",
   "metadata": {},
   "source": [
    "## 2. Implementar NN"
   ]
  },
  {
   "cell_type": "markdown",
   "metadata": {},
   "source": [
    "### 2.1 Preparación "
   ]
  },
  {
   "cell_type": "code",
   "execution_count": 37,
   "metadata": {},
   "outputs": [
    {
     "name": "stderr",
     "output_type": "stream",
     "text": [
      "c:\\Users\\facio\\anaconda3\\envs\\tfproject\\lib\\site-packages\\sklearn\\base.py:486: UserWarning: X has feature names, but StandardScaler was fitted without feature names\n",
      "  warnings.warn(\n"
     ]
    }
   ],
   "source": [
    "data = train.drop(columns=['ID', 'V3'])\n",
    "\n",
    "X = data.drop(columns=['Y']).values\n",
    "y = data['Y'].values\n",
    "\n",
    "# División de los datos en conjunto de entrenamiento y prueba\n",
    "X_train, X_test, y_train, y_test = train_test_split(X, y, test_size=0.2, random_state=42)\n",
    "\n",
    "# Normalización de las características\n",
    "scaler = StandardScaler()\n",
    "X_train_scaled = scaler.fit_transform(X_train)\n",
    "X_test_scaled = scaler.transform(X_test)\n",
    "\n",
    "# Escala datos de validavión\n",
    "data_eval= evaluetion.drop(columns=['ID', 'V3'])\n",
    "data_eval = scaler.transform(data_eval)"
   ]
  },
  {
   "cell_type": "markdown",
   "metadata": {},
   "source": [
    "### 2.2 Construcción de modelo"
   ]
  },
  {
   "cell_type": "code",
   "execution_count": 140,
   "metadata": {},
   "outputs": [],
   "source": [
    "model = Sequential([\n",
    "    Dense(128, activation='relu', input_shape=(X_train_scaled.shape[1],)),\n",
    "    BatchNormalization(),\n",
    "    Dropout(0.2),\n",
    "    Dense(64, activation='relu'),\n",
    "    BatchNormalization(),\n",
    "    Dropout(0.1),\n",
    "    Dense(32, activation='relu'),\n",
    "    BatchNormalization(),\n",
    "    # Dropout(0.1),\n",
    "    Dense(1, activation='linear') \n",
    "])\n",
    "\n",
    "model.compile(optimizer=Adam(learning_rate=0.001), loss='mse', metrics=['mae'])"
   ]
  },
  {
   "cell_type": "code",
   "execution_count": 143,
   "metadata": {},
   "outputs": [
    {
     "name": "stdout",
     "output_type": "stream",
     "text": [
      "Epoch 1/150\n",
      "171/171 - 1s - loss: 57.3198 - mae: 5.4209 - val_loss: 74.9482 - val_mae: 5.8563 - 829ms/epoch - 5ms/step\n",
      "Epoch 2/150\n",
      "171/171 - 1s - loss: 56.6150 - mae: 5.3884 - val_loss: 75.0210 - val_mae: 5.8957 - 902ms/epoch - 5ms/step\n",
      "Epoch 3/150\n",
      "171/171 - 1s - loss: 56.5399 - mae: 5.3869 - val_loss: 74.9303 - val_mae: 5.8995 - 826ms/epoch - 5ms/step\n",
      "Epoch 4/150\n",
      "171/171 - 1s - loss: 56.2804 - mae: 5.3747 - val_loss: 75.2769 - val_mae: 5.8854 - 925ms/epoch - 5ms/step\n",
      "Epoch 5/150\n",
      "171/171 - 1s - loss: 56.0181 - mae: 5.3694 - val_loss: 75.0942 - val_mae: 5.8810 - 911ms/epoch - 5ms/step\n",
      "Epoch 6/150\n",
      "171/171 - 1s - loss: 56.3700 - mae: 5.3819 - val_loss: 74.9011 - val_mae: 5.8528 - 872ms/epoch - 5ms/step\n",
      "Epoch 7/150\n",
      "171/171 - 1s - loss: 55.7876 - mae: 5.3616 - val_loss: 75.2881 - val_mae: 5.8503 - 806ms/epoch - 5ms/step\n",
      "Epoch 8/150\n",
      "171/171 - 1s - loss: 55.4981 - mae: 5.3321 - val_loss: 74.7308 - val_mae: 5.9134 - 974ms/epoch - 6ms/step\n",
      "Epoch 9/150\n",
      "171/171 - 1s - loss: 55.8555 - mae: 5.3650 - val_loss: 75.5003 - val_mae: 5.8461 - 862ms/epoch - 5ms/step\n",
      "Epoch 10/150\n",
      "171/171 - 1s - loss: 55.5498 - mae: 5.3406 - val_loss: 75.2021 - val_mae: 5.9776 - 832ms/epoch - 5ms/step\n",
      "Epoch 11/150\n",
      "171/171 - 1s - loss: 55.5696 - mae: 5.3460 - val_loss: 75.0070 - val_mae: 5.8388 - 1s/epoch - 6ms/step\n",
      "Epoch 12/150\n",
      "171/171 - 1s - loss: 55.9605 - mae: 5.3455 - val_loss: 75.1938 - val_mae: 5.8827 - 885ms/epoch - 5ms/step\n",
      "Epoch 13/150\n",
      "171/171 - 1s - loss: 55.3634 - mae: 5.3458 - val_loss: 75.0108 - val_mae: 5.8257 - 856ms/epoch - 5ms/step\n",
      "Epoch 14/150\n",
      "171/171 - 1s - loss: 54.9346 - mae: 5.3145 - val_loss: 75.0976 - val_mae: 5.8541 - 866ms/epoch - 5ms/step\n",
      "Epoch 15/150\n",
      "171/171 - 1s - loss: 54.3639 - mae: 5.3003 - val_loss: 75.1248 - val_mae: 5.8524 - 930ms/epoch - 5ms/step\n",
      "Epoch 16/150\n",
      "171/171 - 1s - loss: 54.8725 - mae: 5.3101 - val_loss: 74.6792 - val_mae: 5.8707 - 928ms/epoch - 5ms/step\n",
      "Epoch 17/150\n",
      "171/171 - 1s - loss: 54.9759 - mae: 5.3123 - val_loss: 74.9274 - val_mae: 5.9274 - 817ms/epoch - 5ms/step\n",
      "Epoch 18/150\n",
      "171/171 - 1s - loss: 55.0588 - mae: 5.3150 - val_loss: 74.6256 - val_mae: 5.8816 - 980ms/epoch - 6ms/step\n",
      "Epoch 19/150\n",
      "171/171 - 1s - loss: 54.9217 - mae: 5.3199 - val_loss: 75.4825 - val_mae: 5.8834 - 888ms/epoch - 5ms/step\n",
      "Epoch 20/150\n",
      "171/171 - 1s - loss: 55.3189 - mae: 5.3312 - val_loss: 75.4781 - val_mae: 5.9163 - 837ms/epoch - 5ms/step\n",
      "Epoch 21/150\n",
      "171/171 - 1s - loss: 54.6736 - mae: 5.2973 - val_loss: 75.5095 - val_mae: 5.9226 - 952ms/epoch - 6ms/step\n",
      "Epoch 22/150\n",
      "171/171 - 1s - loss: 53.7872 - mae: 5.2722 - val_loss: 75.5983 - val_mae: 5.9020 - 913ms/epoch - 5ms/step\n",
      "Epoch 23/150\n",
      "171/171 - 1s - loss: 54.7661 - mae: 5.3075 - val_loss: 75.1946 - val_mae: 5.8999 - 870ms/epoch - 5ms/step\n",
      "Epoch 24/150\n",
      "171/171 - 1s - loss: 54.0214 - mae: 5.2915 - val_loss: 75.0127 - val_mae: 5.8840 - 899ms/epoch - 5ms/step\n",
      "Epoch 25/150\n",
      "171/171 - 1s - loss: 54.0111 - mae: 5.2745 - val_loss: 75.4323 - val_mae: 5.8772 - 942ms/epoch - 6ms/step\n",
      "Epoch 26/150\n",
      "171/171 - 1s - loss: 54.5186 - mae: 5.3070 - val_loss: 75.0119 - val_mae: 5.8319 - 906ms/epoch - 5ms/step\n",
      "Epoch 27/150\n",
      "171/171 - 1s - loss: 54.8225 - mae: 5.3086 - val_loss: 75.4910 - val_mae: 5.8569 - 820ms/epoch - 5ms/step\n",
      "Epoch 28/150\n",
      "171/171 - 1s - loss: 54.1119 - mae: 5.2902 - val_loss: 75.1186 - val_mae: 5.8476 - 998ms/epoch - 6ms/step\n"
     ]
    }
   ],
   "source": [
    "# Entrenamiento del modelo\n",
    "history = model.fit(X_train_scaled, y_train, validation_split=0.3, epochs=150, batch_size=256, verbose=2, callbacks=[tf.keras.callbacks.EarlyStopping(monitor='val_loss', patience=10)])"
   ]
  },
  {
   "cell_type": "code",
   "execution_count": 144,
   "metadata": {},
   "outputs": [
    {
     "name": "stdout",
     "output_type": "stream",
     "text": [
      "487/487 [==============================] - 1s 2ms/step - loss: 74.5913 - mae: 5.8197\n",
      "Test Loss: 74.59130859375, Test MAE: 5.819693088531494\n"
     ]
    }
   ],
   "source": [
    "# Evaluación del modelo en el conjunto de prueba\n",
    "test_loss, test_mae = model.evaluate(X_test_scaled, y_test)\n",
    "print(f\"Test Loss: {test_loss}, Test MAE: {test_mae}\")"
   ]
  },
  {
   "cell_type": "markdown",
   "metadata": {},
   "source": [
    "### 2.3 Visualización"
   ]
  },
  {
   "cell_type": "code",
   "execution_count": null,
   "metadata": {},
   "outputs": [],
   "source": []
  },
  {
   "cell_type": "code",
   "execution_count": 78,
   "metadata": {},
   "outputs": [
    {
     "data": {
      "image/png": "[encoded data removed]",
      "text/plain": [
       "<Figure size 1200x500 with 2 Axes>"
      ]
     },
     "metadata": {},
     "output_type": "display_data"
    }
   ],
   "source": [
    "import matplotlib.pyplot as plt\n",
    "\n",
    "# Gráficos de pérdida y MAE\n",
    "plt.figure(figsize=(12, 5))\n",
    "plt.subplot(1, 2, 1)\n",
    "plt.plot(history.history['loss'], label='Train Loss')\n",
    "plt.plot(history.history['val_loss'], label='Validation Loss')\n",
    "plt.title('Model Loss')\n",
    "plt.ylabel('Loss')\n",
    "plt.xlabel('Epoch')\n",
    "plt.legend()\n",
    "\n",
    "plt.subplot(1, 2, 2)\n",
    "plt.plot(history.history['mae'], label='Train MAE')\n",
    "plt.plot(history.history['val_mae'], label='Validation MAE')\n",
    "plt.title('Model MAE')\n",
    "plt.ylabel('Mean Absolute Error')\n",
    "plt.xlabel('Epoch')\n",
    "plt.legend()\n",
    "\n",
    "plt.show()\n"
   ]
  },
  {
   "cell_type": "markdown",
   "metadata": {},
   "source": [
    "# Predicción"
   ]
  },
  {
   "cell_type": "code",
   "execution_count": 132,
   "metadata": {},
   "outputs": [
    {
     "name": "stdout",
     "output_type": "stream",
     "text": [
      "584/584 [==============================] - 1s 1ms/step\n"
     ]
    },
    {
     "name": "stderr",
     "output_type": "stream",
     "text": [
      "C:\\Users\\facio\\AppData\\Local\\Temp\\ipykernel_5536\\2469001392.py:5: SettingWithCopyWarning: \n",
      "A value is trying to be set on a copy of a slice from a DataFrame.\n",
      "Try using .loc[row_indexer,col_indexer] = value instead\n",
      "\n",
      "See the caveats in the documentation: https://pandas.pydata.org/pandas-docs/stable/user_guide/indexing.html#returning-a-view-versus-a-copy\n",
      "  df['Y'] = y_predict\n"
     ]
    }
   ],
   "source": [
    "def save_data(model, name):\n",
    "    y_predict = model.predict(data_eval)\n",
    "\n",
    "    df = evaluetion[['ID']]\n",
    "    df['Y'] = y_predict\n",
    "    df.to_csv(f'predict/{name}.csv', index=False)\n",
    "\n",
    "save_data(model, 'normalizada-2podas-4')"
   ]
  },
  {
   "cell_type": "code",
   "execution_count": 56,
   "metadata": {},
   "outputs": [
    {
     "name": "stdout",
     "output_type": "stream",
     "text": [
      "INFO:tensorflow:Assets written to: ram://ce156ec7-9e37-46b8-bda6-703c9aaca2d2/assets\n"
     ]
    }
   ],
   "source": [
    "import pickle\n",
    "\n",
    "def save_model(model, name):\n",
    "    with open(f'./models/{name}.pkl', 'wb') as archivo_salida:\n",
    "        pickle.dump(model, archivo_salida)\n",
    "\n",
    "save_model(model, 'dropout-sample')"
   ]
  },
  {
   "cell_type": "code",
   "execution_count": 23,
   "metadata": {},
   "outputs": [],
   "source": []
  },
  {
   "cell_type": "code",
   "execution_count": 93,
   "metadata": {},
   "outputs": [
    {
     "data": {
      "text/html": [
       "<div>\n",
       "<style scoped>\n",
       "    .dataframe tbody tr th:only-of-type {\n",
       "        vertical-align: middle;\n",
       "    }\n",
       "\n",
       "    .dataframe tbody tr th {\n",
       "        vertical-align: top;\n",
       "    }\n",
       "\n",
       "    .dataframe thead th {\n",
       "        text-align: right;\n",
       "    }\n",
       "</style>\n",
       "<table border=\"1\" class=\"dataframe\">\n",
       "  <thead>\n",
       "    <tr style=\"text-align: right;\">\n",
       "      <th></th>\n",
       "      <th>n</th>\n",
       "      <th>desc</th>\n",
       "      <th>mae</th>\n",
       "      <th>mae_kaggle</th>\n",
       "    </tr>\n",
       "  </thead>\n",
       "  <tbody>\n",
       "    <tr>\n",
       "      <th>0</th>\n",
       "      <td>5</td>\n",
       "      <td>normalizada con una poda</td>\n",
       "      <td>6.186801</td>\n",
       "      <td>9.16731</td>\n",
       "    </tr>\n",
       "    <tr>\n",
       "      <th>1</th>\n",
       "      <td>NaN</td>\n",
       "      <td>normalizada con 2 podas</td>\n",
       "      <td>5.971045</td>\n",
       "      <td>NaN</td>\n",
       "    </tr>\n",
       "    <tr>\n",
       "      <th>2</th>\n",
       "      <td>NaN</td>\n",
       "      <td>normalizada con 2 podas aumentando porcentaje ...</td>\n",
       "      <td>5.843672</td>\n",
       "      <td>NaN</td>\n",
       "    </tr>\n",
       "    <tr>\n",
       "      <th>3</th>\n",
       "      <td>NaN</td>\n",
       "      <td>normalizada con 2 podas aumentando porcentaje ...</td>\n",
       "      <td>5.834270</td>\n",
       "      <td>NaN</td>\n",
       "    </tr>\n",
       "  </tbody>\n",
       "</table>\n",
       "</div>"
      ],
      "text/plain": [
       "     n                                               desc       mae  \\\n",
       "0    5                           normalizada con una poda  6.186801   \n",
       "1  NaN                            normalizada con 2 podas  5.971045   \n",
       "2  NaN  normalizada con 2 podas aumentando porcentaje ...  5.843672   \n",
       "3  NaN  normalizada con 2 podas aumentando porcentaje ...  5.834270   \n",
       "\n",
       "   mae_kaggle  \n",
       "0     9.16731  \n",
       "1         NaN  \n",
       "2         NaN  \n",
       "3         NaN  "
      ]
     },
     "execution_count": 93,
     "metadata": {},
     "output_type": "execute_result"
    }
   ],
   "source": [
    "hist.append({\n",
    "    'desc': 'normalizada con 2 podas aumentando porcentaje de poda',\n",
    "    'mae':  5.834270477294922,\n",
    "    'mae_kaggle': None # pendiente\n",
    "})\n",
    "\n",
    "pd.DataFrame(hist)"
   ]
  },
  {
   "cell_type": "code",
   "execution_count": null,
   "metadata": {},
   "outputs": [],
   "source": []
  }
 ],
 "metadata": {
  "kernelspec": {
   "display_name": "dlproject",
   "language": "python",
   "name": "python3"
  },
  "language_info": {
   "codemirror_mode": {
    "name": "ipython",
    "version": 3
   },
   "file_extension": ".py",
   "mimetype": "text/x-python",
   "name": "python",
   "nbconvert_exporter": "python",
   "pygments_lexer": "ipython3",
   "version": "3.10.13"
  }
 },
 "nbformat": 4,
 "nbformat_minor": 2
}
