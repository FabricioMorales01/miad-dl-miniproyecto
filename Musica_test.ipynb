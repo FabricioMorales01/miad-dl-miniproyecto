{
 "cells": [
  {
   "cell_type": "code",
   "execution_count": 1,
   "metadata": {},
   "outputs": [],
   "source": [
    "import dtale\n",
    "import numpy as np\n",
    "import pandas as pd\n",
    "\n",
    "import plotly.express as px"
   ]
  },
  {
   "cell_type": "code",
   "execution_count": 2,
   "metadata": {},
   "outputs": [],
   "source": [
    "dataset_test = pd.read_csv(\"testReg.csv\", sep = ',')"
   ]
  },
  {
   "cell_type": "code",
   "execution_count": 3,
   "metadata": {},
   "outputs": [
    {
     "name": "stdout",
     "output_type": "stream",
     "text": [
      "<class 'pandas.core.frame.DataFrame'>\n",
      "RangeIndex: 18657 entries, 0 to 18656\n",
      "Data columns (total 91 columns):\n",
      " #   Column  Non-Null Count  Dtype  \n",
      "---  ------  --------------  -----  \n",
      " 0   ID      18657 non-null  int64  \n",
      " 1   V1      18657 non-null  float64\n",
      " 2   V2      18657 non-null  float64\n",
      " 3   V3      18657 non-null  int64  \n",
      " 4   V4      18657 non-null  float64\n",
      " 5   V5      18657 non-null  float64\n",
      " 6   V6      18657 non-null  float64\n",
      " 7   V7      18657 non-null  float64\n",
      " 8   V8      18657 non-null  float64\n",
      " 9   V9      18657 non-null  float64\n",
      " 10  V10     18657 non-null  float64\n",
      " 11  V11     18657 non-null  float64\n",
      " 12  V12     18657 non-null  float64\n",
      " 13  V13     18657 non-null  float64\n",
      " 14  V14     18657 non-null  float64\n",
      " 15  V15     18657 non-null  float64\n",
      " 16  V16     18657 non-null  float64\n",
      " 17  V17     18657 non-null  float64\n",
      " 18  V18     18657 non-null  float64\n",
      " 19  V19     18657 non-null  float64\n",
      " 20  V20     18657 non-null  float64\n",
      " 21  V21     18657 non-null  float64\n",
      " 22  V22     18657 non-null  float64\n",
      " 23  V23     18657 non-null  float64\n",
      " 24  V24     18657 non-null  float64\n",
      " 25  V25     18657 non-null  float64\n",
      " 26  V26     18657 non-null  float64\n",
      " 27  V27     18657 non-null  float64\n",
      " 28  V28     18657 non-null  float64\n",
      " 29  V29     18657 non-null  float64\n",
      " 30  V30     18657 non-null  float64\n",
      " 31  V31     18657 non-null  float64\n",
      " 32  V32     18657 non-null  float64\n",
      " 33  V33     18657 non-null  float64\n",
      " 34  V34     18657 non-null  float64\n",
      " 35  V35     18657 non-null  float64\n",
      " 36  V36     18657 non-null  float64\n",
      " 37  V37     18657 non-null  float64\n",
      " 38  V38     18657 non-null  float64\n",
      " 39  V39     18657 non-null  float64\n",
      " 40  V40     18657 non-null  float64\n",
      " 41  V41     18657 non-null  float64\n",
      " 42  V42     18657 non-null  float64\n",
      " 43  V43     18657 non-null  float64\n",
      " 44  V44     18657 non-null  float64\n",
      " 45  V45     18657 non-null  float64\n",
      " 46  V46     18657 non-null  float64\n",
      " 47  V47     18657 non-null  float64\n",
      " 48  V48     18657 non-null  float64\n",
      " 49  V49     18657 non-null  float64\n",
      " 50  V50     18657 non-null  float64\n",
      " 51  V51     18657 non-null  float64\n",
      " 52  V52     18657 non-null  float64\n",
      " 53  V53     18657 non-null  float64\n",
      " 54  V54     18657 non-null  float64\n",
      " 55  V55     18657 non-null  float64\n",
      " 56  V56     18657 non-null  float64\n",
      " 57  V57     18657 non-null  float64\n",
      " 58  V58     18657 non-null  float64\n",
      " 59  V59     18657 non-null  float64\n",
      " 60  V60     18657 non-null  float64\n",
      " 61  V61     18657 non-null  float64\n",
      " 62  V62     18657 non-null  float64\n",
      " 63  V63     18657 non-null  float64\n",
      " 64  V64     18657 non-null  float64\n",
      " 65  V65     18657 non-null  float64\n",
      " 66  V66     18657 non-null  float64\n",
      " 67  V67     18657 non-null  float64\n",
      " 68  V68     18657 non-null  float64\n",
      " 69  V69     18657 non-null  float64\n",
      " 70  V70     18657 non-null  float64\n",
      " 71  V71     18657 non-null  float64\n",
      " 72  V72     18657 non-null  float64\n",
      " 73  V73     18657 non-null  float64\n",
      " 74  V74     18657 non-null  float64\n",
      " 75  V75     18657 non-null  float64\n",
      " 76  V76     18657 non-null  float64\n",
      " 77  V77     18657 non-null  float64\n",
      " 78  V78     18657 non-null  float64\n",
      " 79  V79     18657 non-null  float64\n",
      " 80  V80     18657 non-null  float64\n",
      " 81  V81     18657 non-null  float64\n",
      " 82  V82     18657 non-null  float64\n",
      " 83  V83     18657 non-null  float64\n",
      " 84  V84     18657 non-null  float64\n",
      " 85  V85     18657 non-null  float64\n",
      " 86  V86     18657 non-null  float64\n",
      " 87  V87     18657 non-null  float64\n",
      " 88  V88     18657 non-null  float64\n",
      " 89  V89     18657 non-null  float64\n",
      " 90  V90     18657 non-null  float64\n",
      "dtypes: float64(89), int64(2)\n",
      "memory usage: 13.0 MB\n"
     ]
    }
   ],
   "source": [
    "dataset_test.info()"
   ]
  },
  {
   "cell_type": "code",
   "execution_count": 4,
   "metadata": {},
   "outputs": [
    {
     "data": {
      "text/html": [
       "<div>\n",
       "<style scoped>\n",
       "    .dataframe tbody tr th:only-of-type {\n",
       "        vertical-align: middle;\n",
       "    }\n",
       "\n",
       "    .dataframe tbody tr th {\n",
       "        vertical-align: top;\n",
       "    }\n",
       "\n",
       "    .dataframe thead th {\n",
       "        text-align: right;\n",
       "    }\n",
       "</style>\n",
       "<table border=\"1\" class=\"dataframe\">\n",
       "  <thead>\n",
       "    <tr style=\"text-align: right;\">\n",
       "      <th></th>\n",
       "      <th>ID</th>\n",
       "      <th>V1</th>\n",
       "      <th>V2</th>\n",
       "      <th>V3</th>\n",
       "      <th>V4</th>\n",
       "      <th>V5</th>\n",
       "      <th>V6</th>\n",
       "      <th>V7</th>\n",
       "      <th>V8</th>\n",
       "      <th>V9</th>\n",
       "      <th>...</th>\n",
       "      <th>V81</th>\n",
       "      <th>V82</th>\n",
       "      <th>V83</th>\n",
       "      <th>V84</th>\n",
       "      <th>V85</th>\n",
       "      <th>V86</th>\n",
       "      <th>V87</th>\n",
       "      <th>V88</th>\n",
       "      <th>V89</th>\n",
       "      <th>V90</th>\n",
       "    </tr>\n",
       "  </thead>\n",
       "  <tbody>\n",
       "    <tr>\n",
       "      <th>0</th>\n",
       "      <td>5972</td>\n",
       "      <td>35.74170</td>\n",
       "      <td>0.86615</td>\n",
       "      <td>0</td>\n",
       "      <td>1.44450</td>\n",
       "      <td>-13.87834</td>\n",
       "      <td>-9.57602</td>\n",
       "      <td>5.89475</td>\n",
       "      <td>-4.46036</td>\n",
       "      <td>-10.60501</td>\n",
       "      <td>...</td>\n",
       "      <td>10.78210</td>\n",
       "      <td>-183.63792</td>\n",
       "      <td>131.18868</td>\n",
       "      <td>37.68626</td>\n",
       "      <td>-4.48926</td>\n",
       "      <td>10.98139</td>\n",
       "      <td>-48.14549</td>\n",
       "      <td>-7.27992</td>\n",
       "      <td>-54.52826</td>\n",
       "      <td>4.81414</td>\n",
       "    </tr>\n",
       "    <tr>\n",
       "      <th>1</th>\n",
       "      <td>57116</td>\n",
       "      <td>35.31664</td>\n",
       "      <td>-0.47799</td>\n",
       "      <td>0</td>\n",
       "      <td>-12.27958</td>\n",
       "      <td>-29.32847</td>\n",
       "      <td>-2.38610</td>\n",
       "      <td>-7.27386</td>\n",
       "      <td>-1.87712</td>\n",
       "      <td>-3.74953</td>\n",
       "      <td>...</td>\n",
       "      <td>53.92478</td>\n",
       "      <td>-238.77713</td>\n",
       "      <td>134.28149</td>\n",
       "      <td>81.19403</td>\n",
       "      <td>-4.81669</td>\n",
       "      <td>106.00178</td>\n",
       "      <td>3.34940</td>\n",
       "      <td>2.72328</td>\n",
       "      <td>156.94894</td>\n",
       "      <td>-8.44873</td>\n",
       "    </tr>\n",
       "    <tr>\n",
       "      <th>2</th>\n",
       "      <td>29076</td>\n",
       "      <td>43.25032</td>\n",
       "      <td>-6.31920</td>\n",
       "      <td>0</td>\n",
       "      <td>-2.56469</td>\n",
       "      <td>-7.59368</td>\n",
       "      <td>2.12862</td>\n",
       "      <td>23.29535</td>\n",
       "      <td>-0.34225</td>\n",
       "      <td>4.48761</td>\n",
       "      <td>...</td>\n",
       "      <td>40.95711</td>\n",
       "      <td>-269.59803</td>\n",
       "      <td>69.88747</td>\n",
       "      <td>29.65701</td>\n",
       "      <td>-0.12854</td>\n",
       "      <td>106.92919</td>\n",
       "      <td>-62.86550</td>\n",
       "      <td>30.12278</td>\n",
       "      <td>24.39843</td>\n",
       "      <td>-10.68316</td>\n",
       "    </tr>\n",
       "    <tr>\n",
       "      <th>3</th>\n",
       "      <td>83358</td>\n",
       "      <td>44.94220</td>\n",
       "      <td>-4.12303</td>\n",
       "      <td>0</td>\n",
       "      <td>-15.79205</td>\n",
       "      <td>7.15794</td>\n",
       "      <td>1.46007</td>\n",
       "      <td>-3.38280</td>\n",
       "      <td>-8.48270</td>\n",
       "      <td>12.69732</td>\n",
       "      <td>...</td>\n",
       "      <td>0.81574</td>\n",
       "      <td>-243.09497</td>\n",
       "      <td>24.20334</td>\n",
       "      <td>-10.02719</td>\n",
       "      <td>19.25667</td>\n",
       "      <td>66.15602</td>\n",
       "      <td>-64.78646</td>\n",
       "      <td>9.09148</td>\n",
       "      <td>11.46055</td>\n",
       "      <td>-7.12136</td>\n",
       "    </tr>\n",
       "    <tr>\n",
       "      <th>4</th>\n",
       "      <td>84664</td>\n",
       "      <td>50.40813</td>\n",
       "      <td>-1.52061</td>\n",
       "      <td>0</td>\n",
       "      <td>-10.10142</td>\n",
       "      <td>-17.74876</td>\n",
       "      <td>-5.96768</td>\n",
       "      <td>-29.94136</td>\n",
       "      <td>-11.84237</td>\n",
       "      <td>5.90144</td>\n",
       "      <td>...</td>\n",
       "      <td>-3.58634</td>\n",
       "      <td>-61.67109</td>\n",
       "      <td>47.53814</td>\n",
       "      <td>139.04916</td>\n",
       "      <td>6.85904</td>\n",
       "      <td>-57.09356</td>\n",
       "      <td>-49.57683</td>\n",
       "      <td>-6.61453</td>\n",
       "      <td>22.55497</td>\n",
       "      <td>-4.39272</td>\n",
       "    </tr>\n",
       "  </tbody>\n",
       "</table>\n",
       "<p>5 rows × 91 columns</p>\n",
       "</div>"
      ],
      "text/plain": [
       "      ID        V1       V2  V3        V4        V5       V6        V7  \\\n",
       "0   5972  35.74170  0.86615   0   1.44450 -13.87834 -9.57602   5.89475   \n",
       "1  57116  35.31664 -0.47799   0 -12.27958 -29.32847 -2.38610  -7.27386   \n",
       "2  29076  43.25032 -6.31920   0  -2.56469  -7.59368  2.12862  23.29535   \n",
       "3  83358  44.94220 -4.12303   0 -15.79205   7.15794  1.46007  -3.38280   \n",
       "4  84664  50.40813 -1.52061   0 -10.10142 -17.74876 -5.96768 -29.94136   \n",
       "\n",
       "         V8        V9  ...       V81        V82        V83        V84  \\\n",
       "0  -4.46036 -10.60501  ...  10.78210 -183.63792  131.18868   37.68626   \n",
       "1  -1.87712  -3.74953  ...  53.92478 -238.77713  134.28149   81.19403   \n",
       "2  -0.34225   4.48761  ...  40.95711 -269.59803   69.88747   29.65701   \n",
       "3  -8.48270  12.69732  ...   0.81574 -243.09497   24.20334  -10.02719   \n",
       "4 -11.84237   5.90144  ...  -3.58634  -61.67109   47.53814  139.04916   \n",
       "\n",
       "        V85        V86       V87       V88        V89       V90  \n",
       "0  -4.48926   10.98139 -48.14549  -7.27992  -54.52826   4.81414  \n",
       "1  -4.81669  106.00178   3.34940   2.72328  156.94894  -8.44873  \n",
       "2  -0.12854  106.92919 -62.86550  30.12278   24.39843 -10.68316  \n",
       "3  19.25667   66.15602 -64.78646   9.09148   11.46055  -7.12136  \n",
       "4   6.85904  -57.09356 -49.57683  -6.61453   22.55497  -4.39272  \n",
       "\n",
       "[5 rows x 91 columns]"
      ]
     },
     "execution_count": 4,
     "metadata": {},
     "output_type": "execute_result"
    }
   ],
   "source": [
    "dataset_test.head()"
   ]
  },
  {
   "cell_type": "code",
   "execution_count": 5,
   "metadata": {},
   "outputs": [
    {
     "name": "stdout",
     "output_type": "stream",
     "text": [
      "  Variable 1 Variable 2  Correlation\n",
      "0        V16        V18     0.803843\n",
      "1        V16        V20     0.740101\n",
      "2        V16        V22     0.701206\n",
      "3        V16        V23     0.845987\n",
      "4        V18        V22     0.723881\n",
      "5        V18        V23     0.856287\n",
      "6        V20        V22     0.872896\n",
      "7        V20        V23     0.724368\n",
      "8        V22        V23     0.730965\n"
     ]
    }
   ],
   "source": [
    "def get_significant_correlations(df, threshold):\n",
    "    # Calcula la matriz de correlación de Pearson\n",
    "    corr_matrix = df.corr()\n",
    "\n",
    "    # Obtiene las columnas del dataframe original\n",
    "    columns = df.columns\n",
    "\n",
    "    # Crea una lista vacía para almacenar las correlaciones significativas\n",
    "    significant_corr = []\n",
    "\n",
    "    # Itera sobre las filas y columnas de la matriz de correlación\n",
    "    for i in range(len(corr_matrix.columns)):\n",
    "        for j in range(i+1, len(corr_matrix.columns)):\n",
    "            # Obtiene el valor de correlación entre las dos variables\n",
    "            corr = corr_matrix.iloc[i, j]\n",
    "            \n",
    "            # Verifica si el valor de correlación supera el threshold y lo agrega a la lista de correlaciones significativas\n",
    "            if abs(corr) >= threshold or abs(corr) <= (threshold * -1)  :\n",
    "                significant_corr.append({'Variable 1': columns[i],\n",
    "                                         'Variable 2': columns[j],\n",
    "                                         'Correlation': corr})\n",
    "\n",
    "    # Crea un dataframe a partir de la lista de correlaciones significativas\n",
    "    significant_corr_df = pd.DataFrame(significant_corr)\n",
    "\n",
    "    return significant_corr_df\n",
    "\n",
    "# Variables con correlaciones más significativas\n",
    "threshold = 0.7\n",
    "significant_correlations_test = get_significant_correlations(dataset_test, threshold)\n",
    "print(significant_correlations_test)"
   ]
  },
  {
   "cell_type": "code",
   "execution_count": 6,
   "metadata": {},
   "outputs": [
    {
     "data": {
      "text/plain": [
       "(20, 96436, 18657)"
      ]
     },
     "execution_count": 6,
     "metadata": {},
     "output_type": "execute_result"
    }
   ],
   "source": [
    "min(dataset_test.ID), max(dataset_test.ID),  len(dataset_test.ID.unique())"
   ]
  },
  {
   "cell_type": "code",
   "execution_count": 8,
   "metadata": {},
   "outputs": [],
   "source": [
    "#dataset.Y.value_counts()"
   ]
  },
  {
   "cell_type": "code",
   "execution_count": 11,
   "metadata": {},
   "outputs": [
    {
     "data": {
      "text/plain": [
       "(1926, 2014, 74)"
      ]
     },
     "execution_count": 11,
     "metadata": {},
     "output_type": "execute_result"
    }
   ],
   "source": [
    "#min(dataset.Y), max(dataset.Y), len(dataset.Y.unique())"
   ]
  },
  {
   "cell_type": "code",
   "execution_count": 6,
   "metadata": {},
   "outputs": [
    {
     "data": {
      "image/png": "[encoded data removed]",
      "text/plain": [
       "<Figure size 1000x600 with 1 Axes>"
      ]
     },
     "metadata": {},
     "output_type": "display_data"
    }
   ],
   "source": [
    "import matplotlib.pyplot as plt\n",
    "plt.figure(figsize=(10, 6))\n",
    "dataset.Y.value_counts().plot(kind='bar')\n",
    "\n",
    "plt.xlabel('Valores de Y')\n",
    "plt.ylabel('Frecuencia')\n",
    "plt.title('Histograma de dataset.Y')\n",
    "\n",
    "plt.show()\n"
   ]
  },
  {
   "cell_type": "markdown",
   "metadata": {},
   "source": [
    "- Las redes neuronales sn susceptibles a la correlación entre variables?\n",
    "- Estandarizar las variables\n",
    "- No se requiere codificar variables categóricas porque no hay\n",
    "- No hay datos faltantes\n",
    "- Hay desbalanceo en el valor a predecir pues hay miles de muestras más para años recientes que para los primeros años.  Las redes neuronales son vulnerables al desbalanceo?\n",
    "- Aplicar reducción de dimensionalidad?"
   ]
  },
  {
   "cell_type": "code",
   "execution_count": 9,
   "metadata": {},
   "outputs": [
    {
     "data": {
      "text/plain": []
     },
     "execution_count": 9,
     "metadata": {},
     "output_type": "execute_result"
    }
   ],
   "source": [
    "dtale.show(dataset_test, open_browser=True)"
   ]
  }
 ],
 "metadata": {
  "kernelspec": {
   "display_name": "MiadDL_Music",
   "language": "python",
   "name": "python3"
  },
  "language_info": {
   "codemirror_mode": {
    "name": "ipython",
    "version": 3
   },
   "file_extension": ".py",
   "mimetype": "text/x-python",
   "name": "python",
   "nbconvert_exporter": "python",
   "pygments_lexer": "ipython3",
   "version": "3.8.3"
  }
 },
 "nbformat": 4,
 "nbformat_minor": 2
}
